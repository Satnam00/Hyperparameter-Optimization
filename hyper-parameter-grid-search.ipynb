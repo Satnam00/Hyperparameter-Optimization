{
 "cells": [
  {
   "cell_type": "markdown",
   "execution_count": null,
   "metadata": {},
   "source": [
    "# Grid_Search_On_RANDOM_FOREST_CLASSIFIER\n",
    "### you have to do everything inside the cross-validation loop\n",
    "### as long as we do that we are not overfillting the model"
   ]
  },
  {
   "cell_type": "code",
   "execution_count": 1,
   "metadata": {
    "_cell_guid": "79c7e3d0-c299-4dcb-8224-4455121ee9b0",
    "_uuid": "d629ff2d2480ee46fbb7e2d37f6b5fab8052498a"
   },
   "outputs": [],
   "source": [
    "import pandas as pd\n",
    "import numpy as np\n",
    "from sklearn import ensemble\n",
    "from sklearn import metrics\n",
    "from sklearn import model_selection"
   ]
  },
  {
   "cell_type": "code",
   "execution_count": 2,
   "metadata": {},
   "outputs": [
    {
     "data": {
      "text/html": [
       "<div>\n",
       "<style scoped>\n",
       "    .dataframe tbody tr th:only-of-type {\n",
       "        vertical-align: middle;\n",
       "    }\n",
       "\n",
       "    .dataframe tbody tr th {\n",
       "        vertical-align: top;\n",
       "    }\n",
       "\n",
       "    .dataframe thead th {\n",
       "        text-align: right;\n",
       "    }\n",
       "</style>\n",
       "<table border=\"1\" class=\"dataframe\">\n",
       "  <thead>\n",
       "    <tr style=\"text-align: right;\">\n",
       "      <th></th>\n",
       "      <th>battery_power</th>\n",
       "      <th>blue</th>\n",
       "      <th>clock_speed</th>\n",
       "      <th>dual_sim</th>\n",
       "      <th>fc</th>\n",
       "      <th>four_g</th>\n",
       "      <th>int_memory</th>\n",
       "      <th>m_dep</th>\n",
       "      <th>mobile_wt</th>\n",
       "      <th>n_cores</th>\n",
       "      <th>...</th>\n",
       "      <th>px_height</th>\n",
       "      <th>px_width</th>\n",
       "      <th>ram</th>\n",
       "      <th>sc_h</th>\n",
       "      <th>sc_w</th>\n",
       "      <th>talk_time</th>\n",
       "      <th>three_g</th>\n",
       "      <th>touch_screen</th>\n",
       "      <th>wifi</th>\n",
       "      <th>price_range</th>\n",
       "    </tr>\n",
       "  </thead>\n",
       "  <tbody>\n",
       "    <tr>\n",
       "      <th>0</th>\n",
       "      <td>842</td>\n",
       "      <td>0</td>\n",
       "      <td>2.2</td>\n",
       "      <td>0</td>\n",
       "      <td>1</td>\n",
       "      <td>0</td>\n",
       "      <td>7</td>\n",
       "      <td>0.6</td>\n",
       "      <td>188</td>\n",
       "      <td>2</td>\n",
       "      <td>...</td>\n",
       "      <td>20</td>\n",
       "      <td>756</td>\n",
       "      <td>2549</td>\n",
       "      <td>9</td>\n",
       "      <td>7</td>\n",
       "      <td>19</td>\n",
       "      <td>0</td>\n",
       "      <td>0</td>\n",
       "      <td>1</td>\n",
       "      <td>1</td>\n",
       "    </tr>\n",
       "    <tr>\n",
       "      <th>1</th>\n",
       "      <td>1021</td>\n",
       "      <td>1</td>\n",
       "      <td>0.5</td>\n",
       "      <td>1</td>\n",
       "      <td>0</td>\n",
       "      <td>1</td>\n",
       "      <td>53</td>\n",
       "      <td>0.7</td>\n",
       "      <td>136</td>\n",
       "      <td>3</td>\n",
       "      <td>...</td>\n",
       "      <td>905</td>\n",
       "      <td>1988</td>\n",
       "      <td>2631</td>\n",
       "      <td>17</td>\n",
       "      <td>3</td>\n",
       "      <td>7</td>\n",
       "      <td>1</td>\n",
       "      <td>1</td>\n",
       "      <td>0</td>\n",
       "      <td>2</td>\n",
       "    </tr>\n",
       "  </tbody>\n",
       "</table>\n",
       "<p>2 rows × 21 columns</p>\n",
       "</div>"
      ],
      "text/plain": [
       "   battery_power  blue  clock_speed  dual_sim  fc  four_g  int_memory  m_dep  \\\n",
       "0            842     0          2.2         0   1       0           7    0.6   \n",
       "1           1021     1          0.5         1   0       1          53    0.7   \n",
       "\n",
       "   mobile_wt  n_cores  ...  px_height  px_width   ram  sc_h  sc_w  talk_time  \\\n",
       "0        188        2  ...         20       756  2549     9     7         19   \n",
       "1        136        3  ...        905      1988  2631    17     3          7   \n",
       "\n",
       "   three_g  touch_screen  wifi  price_range  \n",
       "0        0             0     1            1  \n",
       "1        1             1     0            2  \n",
       "\n",
       "[2 rows x 21 columns]"
      ]
     },
     "execution_count": 2,
     "metadata": {},
     "output_type": "execute_result"
    }
   ],
   "source": [
    "df = pd.read_csv('../input/mobile-price-classification/train.csv')\n",
    "df.columns\n",
    "df.head(2)"
   ]
  },
  {
   "cell_type": "code",
   "execution_count": 3,
   "metadata": {},
   "outputs": [],
   "source": [
    "# if __name__ == __main__:\n",
    "df = pd.read_csv('../input/mobile-price-classification/train.csv')\n",
    "X  = df.drop('price_range', axis = 1).values\n",
    "y  = df['price_range'].values"
   ]
  },
  {
   "cell_type": "code",
   "execution_count": 4,
   "metadata": {},
   "outputs": [],
   "source": [
    "#n_jobs=-1 so that it can use all the cores of the system\n",
    "classifier = ensemble.RandomForestClassifier(n_jobs=-1)"
   ]
  },
  {
   "cell_type": "code",
   "execution_count": 5,
   "metadata": {},
   "outputs": [],
   "source": [
    "param_grid = {\n",
    "    \"n_estimators\": [100, 200, 300, 400],\n",
    "    \"max_depth\": [1, 3, 5, 7],\n",
    "    \"criterion\": [\"gini\", \"entropy\"]\n",
    "}"
   ]
  },
  {
   "cell_type": "code",
   "execution_count": 6,
   "metadata": {},
   "outputs": [],
   "source": [
    "model = model_selection.GridSearchCV(\n",
    "    estimator = classifier,\n",
    "    param_grid = param_grid,\n",
    "    scoring = \"accuracy\",\n",
    "    verbose = 10,  #max_value\n",
    "    n_jobs = 1,\n",
    "    \n",
    "    #stratified fold is recomended\n",
    "    # if we dont specify cv = 5 but it is still going to use cv = 5\n",
    "    # if we have categoris as target or its binalry then is it going to use stratified k-fold \n",
    "    cv = 5   \n",
    ")"
   ]
  },
  {
   "cell_type": "code",
   "execution_count": 7,
   "metadata": {},
   "outputs": [
    {
     "name": "stdout",
     "output_type": "stream",
     "text": [
      "Fitting 5 folds for each of 32 candidates, totalling 160 fits\n",
      "[CV] criterion=gini, max_depth=1, n_estimators=100 ...................\n"
     ]
    },
    {
     "name": "stderr",
     "output_type": "stream",
     "text": [
      "[Parallel(n_jobs=1)]: Using backend SequentialBackend with 1 concurrent workers.\n"
     ]
    },
    {
     "name": "stdout",
     "output_type": "stream",
     "text": [
      "[CV]  criterion=gini, max_depth=1, n_estimators=100, score=0.585, total=   1.6s\n",
      "[CV] criterion=gini, max_depth=1, n_estimators=100 ...................\n"
     ]
    },
    {
     "name": "stderr",
     "output_type": "stream",
     "text": [
      "[Parallel(n_jobs=1)]: Done   1 out of   1 | elapsed:    1.6s remaining:    0.0s\n"
     ]
    },
    {
     "name": "stdout",
     "output_type": "stream",
     "text": [
      "[CV]  criterion=gini, max_depth=1, n_estimators=100, score=0.550, total=   0.4s\n",
      "[CV] criterion=gini, max_depth=1, n_estimators=100 ...................\n"
     ]
    },
    {
     "name": "stderr",
     "output_type": "stream",
     "text": [
      "[Parallel(n_jobs=1)]: Done   2 out of   2 | elapsed:    2.0s remaining:    0.0s\n"
     ]
    },
    {
     "name": "stdout",
     "output_type": "stream",
     "text": [
      "[CV]  criterion=gini, max_depth=1, n_estimators=100, score=0.600, total=   0.3s\n",
      "[CV] criterion=gini, max_depth=1, n_estimators=100 ...................\n"
     ]
    },
    {
     "name": "stderr",
     "output_type": "stream",
     "text": [
      "[Parallel(n_jobs=1)]: Done   3 out of   3 | elapsed:    2.3s remaining:    0.0s\n"
     ]
    },
    {
     "name": "stdout",
     "output_type": "stream",
     "text": [
      "[CV]  criterion=gini, max_depth=1, n_estimators=100, score=0.588, total=   0.3s\n",
      "[CV] criterion=gini, max_depth=1, n_estimators=100 ...................\n"
     ]
    },
    {
     "name": "stderr",
     "output_type": "stream",
     "text": [
      "[Parallel(n_jobs=1)]: Done   4 out of   4 | elapsed:    2.7s remaining:    0.0s\n"
     ]
    },
    {
     "name": "stdout",
     "output_type": "stream",
     "text": [
      "[CV]  criterion=gini, max_depth=1, n_estimators=100, score=0.562, total=   0.3s\n",
      "[CV] criterion=gini, max_depth=1, n_estimators=200 ...................\n"
     ]
    },
    {
     "name": "stderr",
     "output_type": "stream",
     "text": [
      "[Parallel(n_jobs=1)]: Done   5 out of   5 | elapsed:    3.0s remaining:    0.0s\n"
     ]
    },
    {
     "name": "stdout",
     "output_type": "stream",
     "text": [
      "[CV]  criterion=gini, max_depth=1, n_estimators=200, score=0.600, total=   0.6s\n",
      "[CV] criterion=gini, max_depth=1, n_estimators=200 ...................\n"
     ]
    },
    {
     "name": "stderr",
     "output_type": "stream",
     "text": [
      "[Parallel(n_jobs=1)]: Done   6 out of   6 | elapsed:    3.6s remaining:    0.0s\n"
     ]
    },
    {
     "name": "stdout",
     "output_type": "stream",
     "text": [
      "[CV]  criterion=gini, max_depth=1, n_estimators=200, score=0.578, total=   0.5s\n",
      "[CV] criterion=gini, max_depth=1, n_estimators=200 ...................\n"
     ]
    },
    {
     "name": "stderr",
     "output_type": "stream",
     "text": [
      "[Parallel(n_jobs=1)]: Done   7 out of   7 | elapsed:    4.1s remaining:    0.0s\n"
     ]
    },
    {
     "name": "stdout",
     "output_type": "stream",
     "text": [
      "[CV]  criterion=gini, max_depth=1, n_estimators=200, score=0.615, total=   0.5s\n",
      "[CV] criterion=gini, max_depth=1, n_estimators=200 ...................\n"
     ]
    },
    {
     "name": "stderr",
     "output_type": "stream",
     "text": [
      "[Parallel(n_jobs=1)]: Done   8 out of   8 | elapsed:    4.6s remaining:    0.0s\n"
     ]
    },
    {
     "name": "stdout",
     "output_type": "stream",
     "text": [
      "[CV]  criterion=gini, max_depth=1, n_estimators=200, score=0.620, total=   0.5s\n",
      "[CV] criterion=gini, max_depth=1, n_estimators=200 ...................\n"
     ]
    },
    {
     "name": "stderr",
     "output_type": "stream",
     "text": [
      "[Parallel(n_jobs=1)]: Done   9 out of   9 | elapsed:    5.2s remaining:    0.0s\n"
     ]
    },
    {
     "name": "stdout",
     "output_type": "stream",
     "text": [
      "[CV]  criterion=gini, max_depth=1, n_estimators=200, score=0.575, total=   0.5s\n",
      "[CV] criterion=gini, max_depth=1, n_estimators=300 ...................\n",
      "[CV]  criterion=gini, max_depth=1, n_estimators=300, score=0.590, total=   0.8s\n",
      "[CV] criterion=gini, max_depth=1, n_estimators=300 ...................\n",
      "[CV]  criterion=gini, max_depth=1, n_estimators=300, score=0.600, total=   0.9s\n",
      "[CV] criterion=gini, max_depth=1, n_estimators=300 ...................\n",
      "[CV]  criterion=gini, max_depth=1, n_estimators=300, score=0.620, total=   0.9s\n",
      "[CV] criterion=gini, max_depth=1, n_estimators=300 ...................\n",
      "[CV]  criterion=gini, max_depth=1, n_estimators=300, score=0.598, total=   0.9s\n",
      "[CV] criterion=gini, max_depth=1, n_estimators=300 ...................\n",
      "[CV]  criterion=gini, max_depth=1, n_estimators=300, score=0.588, total=   0.9s\n",
      "[CV] criterion=gini, max_depth=1, n_estimators=400 ...................\n",
      "[CV]  criterion=gini, max_depth=1, n_estimators=400, score=0.603, total=   1.0s\n",
      "[CV] criterion=gini, max_depth=1, n_estimators=400 ...................\n",
      "[CV]  criterion=gini, max_depth=1, n_estimators=400, score=0.605, total=   1.0s\n",
      "[CV] criterion=gini, max_depth=1, n_estimators=400 ...................\n",
      "[CV]  criterion=gini, max_depth=1, n_estimators=400, score=0.618, total=   1.0s\n",
      "[CV] criterion=gini, max_depth=1, n_estimators=400 ...................\n",
      "[CV]  criterion=gini, max_depth=1, n_estimators=400, score=0.608, total=   1.0s\n",
      "[CV] criterion=gini, max_depth=1, n_estimators=400 ...................\n",
      "[CV]  criterion=gini, max_depth=1, n_estimators=400, score=0.570, total=   1.0s\n",
      "[CV] criterion=gini, max_depth=3, n_estimators=100 ...................\n",
      "[CV]  criterion=gini, max_depth=3, n_estimators=100, score=0.795, total=   0.4s\n",
      "[CV] criterion=gini, max_depth=3, n_estimators=100 ...................\n",
      "[CV]  criterion=gini, max_depth=3, n_estimators=100, score=0.780, total=   0.4s\n",
      "[CV] criterion=gini, max_depth=3, n_estimators=100 ...................\n",
      "[CV]  criterion=gini, max_depth=3, n_estimators=100, score=0.820, total=   0.4s\n",
      "[CV] criterion=gini, max_depth=3, n_estimators=100 ...................\n",
      "[CV]  criterion=gini, max_depth=3, n_estimators=100, score=0.818, total=   0.4s\n",
      "[CV] criterion=gini, max_depth=3, n_estimators=100 ...................\n",
      "[CV]  criterion=gini, max_depth=3, n_estimators=100, score=0.785, total=   0.4s\n",
      "[CV] criterion=gini, max_depth=3, n_estimators=200 ...................\n",
      "[CV]  criterion=gini, max_depth=3, n_estimators=200, score=0.797, total=   0.5s\n",
      "[CV] criterion=gini, max_depth=3, n_estimators=200 ...................\n",
      "[CV]  criterion=gini, max_depth=3, n_estimators=200, score=0.802, total=   0.5s\n",
      "[CV] criterion=gini, max_depth=3, n_estimators=200 ...................\n",
      "[CV]  criterion=gini, max_depth=3, n_estimators=200, score=0.823, total=   0.5s\n",
      "[CV] criterion=gini, max_depth=3, n_estimators=200 ...................\n",
      "[CV]  criterion=gini, max_depth=3, n_estimators=200, score=0.833, total=   0.5s\n",
      "[CV] criterion=gini, max_depth=3, n_estimators=200 ...................\n",
      "[CV]  criterion=gini, max_depth=3, n_estimators=200, score=0.782, total=   0.5s\n",
      "[CV] criterion=gini, max_depth=3, n_estimators=300 ...................\n",
      "[CV]  criterion=gini, max_depth=3, n_estimators=300, score=0.815, total=   0.9s\n",
      "[CV] criterion=gini, max_depth=3, n_estimators=300 ...................\n",
      "[CV]  criterion=gini, max_depth=3, n_estimators=300, score=0.800, total=   0.9s\n",
      "[CV] criterion=gini, max_depth=3, n_estimators=300 ...................\n",
      "[CV]  criterion=gini, max_depth=3, n_estimators=300, score=0.823, total=   0.9s\n",
      "[CV] criterion=gini, max_depth=3, n_estimators=300 ...................\n",
      "[CV]  criterion=gini, max_depth=3, n_estimators=300, score=0.820, total=   0.9s\n",
      "[CV] criterion=gini, max_depth=3, n_estimators=300 ...................\n",
      "[CV]  criterion=gini, max_depth=3, n_estimators=300, score=0.800, total=   0.9s\n",
      "[CV] criterion=gini, max_depth=3, n_estimators=400 ...................\n",
      "[CV]  criterion=gini, max_depth=3, n_estimators=400, score=0.787, total=   1.0s\n",
      "[CV] criterion=gini, max_depth=3, n_estimators=400 ...................\n",
      "[CV]  criterion=gini, max_depth=3, n_estimators=400, score=0.785, total=   1.1s\n",
      "[CV] criterion=gini, max_depth=3, n_estimators=400 ...................\n",
      "[CV]  criterion=gini, max_depth=3, n_estimators=400, score=0.818, total=   1.0s\n",
      "[CV] criterion=gini, max_depth=3, n_estimators=400 ...................\n",
      "[CV]  criterion=gini, max_depth=3, n_estimators=400, score=0.820, total=   1.0s\n",
      "[CV] criterion=gini, max_depth=3, n_estimators=400 ...................\n",
      "[CV]  criterion=gini, max_depth=3, n_estimators=400, score=0.782, total=   1.0s\n",
      "[CV] criterion=gini, max_depth=5, n_estimators=100 ...................\n",
      "[CV]  criterion=gini, max_depth=5, n_estimators=100, score=0.835, total=   0.4s\n",
      "[CV] criterion=gini, max_depth=5, n_estimators=100 ...................\n",
      "[CV]  criterion=gini, max_depth=5, n_estimators=100, score=0.830, total=   0.4s\n",
      "[CV] criterion=gini, max_depth=5, n_estimators=100 ...................\n",
      "[CV]  criterion=gini, max_depth=5, n_estimators=100, score=0.848, total=   0.4s\n",
      "[CV] criterion=gini, max_depth=5, n_estimators=100 ...................\n",
      "[CV]  criterion=gini, max_depth=5, n_estimators=100, score=0.838, total=   0.4s\n",
      "[CV] criterion=gini, max_depth=5, n_estimators=100 ...................\n",
      "[CV]  criterion=gini, max_depth=5, n_estimators=100, score=0.805, total=   0.4s\n",
      "[CV] criterion=gini, max_depth=5, n_estimators=200 ...................\n",
      "[CV]  criterion=gini, max_depth=5, n_estimators=200, score=0.833, total=   0.6s\n",
      "[CV] criterion=gini, max_depth=5, n_estimators=200 ...................\n",
      "[CV]  criterion=gini, max_depth=5, n_estimators=200, score=0.855, total=   0.6s\n",
      "[CV] criterion=gini, max_depth=5, n_estimators=200 ...................\n",
      "[CV]  criterion=gini, max_depth=5, n_estimators=200, score=0.865, total=   0.6s\n",
      "[CV] criterion=gini, max_depth=5, n_estimators=200 ...................\n",
      "[CV]  criterion=gini, max_depth=5, n_estimators=200, score=0.840, total=   0.6s\n",
      "[CV] criterion=gini, max_depth=5, n_estimators=200 ...................\n",
      "[CV]  criterion=gini, max_depth=5, n_estimators=200, score=0.818, total=   0.6s\n",
      "[CV] criterion=gini, max_depth=5, n_estimators=300 ...................\n",
      "[CV]  criterion=gini, max_depth=5, n_estimators=300, score=0.820, total=   0.9s\n",
      "[CV] criterion=gini, max_depth=5, n_estimators=300 ...................\n",
      "[CV]  criterion=gini, max_depth=5, n_estimators=300, score=0.828, total=   0.9s\n",
      "[CV] criterion=gini, max_depth=5, n_estimators=300 ...................\n",
      "[CV]  criterion=gini, max_depth=5, n_estimators=300, score=0.873, total=   0.9s\n",
      "[CV] criterion=gini, max_depth=5, n_estimators=300 ...................\n",
      "[CV]  criterion=gini, max_depth=5, n_estimators=300, score=0.830, total=   0.9s\n",
      "[CV] criterion=gini, max_depth=5, n_estimators=300 ...................\n",
      "[CV]  criterion=gini, max_depth=5, n_estimators=300, score=0.823, total=   0.9s\n",
      "[CV] criterion=gini, max_depth=5, n_estimators=400 ...................\n",
      "[CV]  criterion=gini, max_depth=5, n_estimators=400, score=0.850, total=   1.1s\n",
      "[CV] criterion=gini, max_depth=5, n_estimators=400 ...................\n",
      "[CV]  criterion=gini, max_depth=5, n_estimators=400, score=0.843, total=   1.1s\n",
      "[CV] criterion=gini, max_depth=5, n_estimators=400 ...................\n",
      "[CV]  criterion=gini, max_depth=5, n_estimators=400, score=0.865, total=   1.1s\n",
      "[CV] criterion=gini, max_depth=5, n_estimators=400 ...................\n",
      "[CV]  criterion=gini, max_depth=5, n_estimators=400, score=0.838, total=   1.1s\n",
      "[CV] criterion=gini, max_depth=5, n_estimators=400 ...................\n",
      "[CV]  criterion=gini, max_depth=5, n_estimators=400, score=0.823, total=   1.1s\n",
      "[CV] criterion=gini, max_depth=7, n_estimators=100 ...................\n",
      "[CV]  criterion=gini, max_depth=7, n_estimators=100, score=0.845, total=   0.4s\n",
      "[CV] criterion=gini, max_depth=7, n_estimators=100 ...................\n",
      "[CV]  criterion=gini, max_depth=7, n_estimators=100, score=0.860, total=   0.5s\n",
      "[CV] criterion=gini, max_depth=7, n_estimators=100 ...................\n",
      "[CV]  criterion=gini, max_depth=7, n_estimators=100, score=0.877, total=   0.4s\n",
      "[CV] criterion=gini, max_depth=7, n_estimators=100 ...................\n",
      "[CV]  criterion=gini, max_depth=7, n_estimators=100, score=0.850, total=   0.4s\n",
      "[CV] criterion=gini, max_depth=7, n_estimators=100 ...................\n",
      "[CV]  criterion=gini, max_depth=7, n_estimators=100, score=0.845, total=   0.4s\n",
      "[CV] criterion=gini, max_depth=7, n_estimators=200 ...................\n",
      "[CV]  criterion=gini, max_depth=7, n_estimators=200, score=0.865, total=   0.6s\n",
      "[CV] criterion=gini, max_depth=7, n_estimators=200 ...................\n",
      "[CV]  criterion=gini, max_depth=7, n_estimators=200, score=0.890, total=   0.6s\n",
      "[CV] criterion=gini, max_depth=7, n_estimators=200 ...................\n",
      "[CV]  criterion=gini, max_depth=7, n_estimators=200, score=0.892, total=   0.6s\n",
      "[CV] criterion=gini, max_depth=7, n_estimators=200 ...................\n",
      "[CV]  criterion=gini, max_depth=7, n_estimators=200, score=0.868, total=   0.6s\n",
      "[CV] criterion=gini, max_depth=7, n_estimators=200 ...................\n",
      "[CV]  criterion=gini, max_depth=7, n_estimators=200, score=0.853, total=   0.6s\n",
      "[CV] criterion=gini, max_depth=7, n_estimators=300 ...................\n",
      "[CV]  criterion=gini, max_depth=7, n_estimators=300, score=0.865, total=   1.0s\n",
      "[CV] criterion=gini, max_depth=7, n_estimators=300 ...................\n",
      "[CV]  criterion=gini, max_depth=7, n_estimators=300, score=0.858, total=   1.0s\n",
      "[CV] criterion=gini, max_depth=7, n_estimators=300 ...................\n",
      "[CV]  criterion=gini, max_depth=7, n_estimators=300, score=0.887, total=   1.0s\n",
      "[CV] criterion=gini, max_depth=7, n_estimators=300 ...................\n",
      "[CV]  criterion=gini, max_depth=7, n_estimators=300, score=0.858, total=   1.0s\n",
      "[CV] criterion=gini, max_depth=7, n_estimators=300 ...................\n",
      "[CV]  criterion=gini, max_depth=7, n_estimators=300, score=0.843, total=   1.0s\n",
      "[CV] criterion=gini, max_depth=7, n_estimators=400 ...................\n",
      "[CV]  criterion=gini, max_depth=7, n_estimators=400, score=0.865, total=   1.1s\n",
      "[CV] criterion=gini, max_depth=7, n_estimators=400 ...................\n",
      "[CV]  criterion=gini, max_depth=7, n_estimators=400, score=0.855, total=   1.1s\n",
      "[CV] criterion=gini, max_depth=7, n_estimators=400 ...................\n",
      "[CV]  criterion=gini, max_depth=7, n_estimators=400, score=0.897, total=   1.2s\n",
      "[CV] criterion=gini, max_depth=7, n_estimators=400 ...................\n",
      "[CV]  criterion=gini, max_depth=7, n_estimators=400, score=0.855, total=   1.1s\n",
      "[CV] criterion=gini, max_depth=7, n_estimators=400 ...................\n",
      "[CV]  criterion=gini, max_depth=7, n_estimators=400, score=0.845, total=   1.2s\n",
      "[CV] criterion=entropy, max_depth=1, n_estimators=100 ................\n",
      "[CV]  criterion=entropy, max_depth=1, n_estimators=100, score=0.578, total=   0.5s\n",
      "[CV] criterion=entropy, max_depth=1, n_estimators=100 ................\n",
      "[CV]  criterion=entropy, max_depth=1, n_estimators=100, score=0.560, total=   0.4s\n",
      "[CV] criterion=entropy, max_depth=1, n_estimators=100 ................\n",
      "[CV]  criterion=entropy, max_depth=1, n_estimators=100, score=0.540, total=   0.3s\n",
      "[CV] criterion=entropy, max_depth=1, n_estimators=100 ................\n",
      "[CV]  criterion=entropy, max_depth=1, n_estimators=100, score=0.557, total=   0.3s\n",
      "[CV] criterion=entropy, max_depth=1, n_estimators=100 ................\n",
      "[CV]  criterion=entropy, max_depth=1, n_estimators=100, score=0.557, total=   0.4s\n",
      "[CV] criterion=entropy, max_depth=1, n_estimators=200 ................\n",
      "[CV]  criterion=entropy, max_depth=1, n_estimators=200, score=0.578, total=   0.5s\n",
      "[CV] criterion=entropy, max_depth=1, n_estimators=200 ................\n",
      "[CV]  criterion=entropy, max_depth=1, n_estimators=200, score=0.515, total=   0.5s\n",
      "[CV] criterion=entropy, max_depth=1, n_estimators=200 ................\n",
      "[CV]  criterion=entropy, max_depth=1, n_estimators=200, score=0.583, total=   0.5s\n",
      "[CV] criterion=entropy, max_depth=1, n_estimators=200 ................\n",
      "[CV]  criterion=entropy, max_depth=1, n_estimators=200, score=0.565, total=   0.6s\n",
      "[CV] criterion=entropy, max_depth=1, n_estimators=200 ................\n",
      "[CV]  criterion=entropy, max_depth=1, n_estimators=200, score=0.542, total=   0.6s\n",
      "[CV] criterion=entropy, max_depth=1, n_estimators=300 ................\n",
      "[CV]  criterion=entropy, max_depth=1, n_estimators=300, score=0.555, total=   0.9s\n",
      "[CV] criterion=entropy, max_depth=1, n_estimators=300 ................\n",
      "[CV]  criterion=entropy, max_depth=1, n_estimators=300, score=0.583, total=   0.9s\n",
      "[CV] criterion=entropy, max_depth=1, n_estimators=300 ................\n",
      "[CV]  criterion=entropy, max_depth=1, n_estimators=300, score=0.547, total=   0.9s\n",
      "[CV] criterion=entropy, max_depth=1, n_estimators=300 ................\n",
      "[CV]  criterion=entropy, max_depth=1, n_estimators=300, score=0.537, total=   0.9s\n",
      "[CV] criterion=entropy, max_depth=1, n_estimators=300 ................\n",
      "[CV]  criterion=entropy, max_depth=1, n_estimators=300, score=0.547, total=   0.9s\n",
      "[CV] criterion=entropy, max_depth=1, n_estimators=400 ................\n",
      "[CV]  criterion=entropy, max_depth=1, n_estimators=400, score=0.555, total=   1.0s\n",
      "[CV] criterion=entropy, max_depth=1, n_estimators=400 ................\n",
      "[CV]  criterion=entropy, max_depth=1, n_estimators=400, score=0.547, total=   1.0s\n",
      "[CV] criterion=entropy, max_depth=1, n_estimators=400 ................\n",
      "[CV]  criterion=entropy, max_depth=1, n_estimators=400, score=0.545, total=   1.0s\n",
      "[CV] criterion=entropy, max_depth=1, n_estimators=400 ................\n",
      "[CV]  criterion=entropy, max_depth=1, n_estimators=400, score=0.585, total=   1.0s\n",
      "[CV] criterion=entropy, max_depth=1, n_estimators=400 ................\n",
      "[CV]  criterion=entropy, max_depth=1, n_estimators=400, score=0.542, total=   1.0s\n",
      "[CV] criterion=entropy, max_depth=3, n_estimators=100 ................\n",
      "[CV]  criterion=entropy, max_depth=3, n_estimators=100, score=0.755, total=   0.4s\n",
      "[CV] criterion=entropy, max_depth=3, n_estimators=100 ................\n",
      "[CV]  criterion=entropy, max_depth=3, n_estimators=100, score=0.775, total=   0.4s\n",
      "[CV] criterion=entropy, max_depth=3, n_estimators=100 ................\n",
      "[CV]  criterion=entropy, max_depth=3, n_estimators=100, score=0.770, total=   0.4s\n",
      "[CV] criterion=entropy, max_depth=3, n_estimators=100 ................\n",
      "[CV]  criterion=entropy, max_depth=3, n_estimators=100, score=0.748, total=   0.4s\n",
      "[CV] criterion=entropy, max_depth=3, n_estimators=100 ................\n",
      "[CV]  criterion=entropy, max_depth=3, n_estimators=100, score=0.728, total=   0.4s\n",
      "[CV] criterion=entropy, max_depth=3, n_estimators=200 ................\n",
      "[CV]  criterion=entropy, max_depth=3, n_estimators=200, score=0.782, total=   0.6s\n",
      "[CV] criterion=entropy, max_depth=3, n_estimators=200 ................\n",
      "[CV]  criterion=entropy, max_depth=3, n_estimators=200, score=0.750, total=   0.6s\n",
      "[CV] criterion=entropy, max_depth=3, n_estimators=200 ................\n",
      "[CV]  criterion=entropy, max_depth=3, n_estimators=200, score=0.792, total=   0.6s\n",
      "[CV] criterion=entropy, max_depth=3, n_estimators=200 ................\n",
      "[CV]  criterion=entropy, max_depth=3, n_estimators=200, score=0.805, total=   0.6s\n",
      "[CV] criterion=entropy, max_depth=3, n_estimators=200 ................\n",
      "[CV]  criterion=entropy, max_depth=3, n_estimators=200, score=0.728, total=   0.6s\n",
      "[CV] criterion=entropy, max_depth=3, n_estimators=300 ................\n",
      "[CV]  criterion=entropy, max_depth=3, n_estimators=300, score=0.795, total=   0.9s\n",
      "[CV] criterion=entropy, max_depth=3, n_estimators=300 ................\n",
      "[CV]  criterion=entropy, max_depth=3, n_estimators=300, score=0.738, total=   0.9s\n",
      "[CV] criterion=entropy, max_depth=3, n_estimators=300 ................\n",
      "[CV]  criterion=entropy, max_depth=3, n_estimators=300, score=0.795, total=   1.0s\n",
      "[CV] criterion=entropy, max_depth=3, n_estimators=300 ................\n",
      "[CV]  criterion=entropy, max_depth=3, n_estimators=300, score=0.777, total=   0.9s\n",
      "[CV] criterion=entropy, max_depth=3, n_estimators=300 ................\n",
      "[CV]  criterion=entropy, max_depth=3, n_estimators=300, score=0.752, total=   0.9s\n",
      "[CV] criterion=entropy, max_depth=3, n_estimators=400 ................\n",
      "[CV]  criterion=entropy, max_depth=3, n_estimators=400, score=0.787, total=   1.1s\n",
      "[CV] criterion=entropy, max_depth=3, n_estimators=400 ................\n",
      "[CV]  criterion=entropy, max_depth=3, n_estimators=400, score=0.787, total=   1.1s\n",
      "[CV] criterion=entropy, max_depth=3, n_estimators=400 ................\n",
      "[CV]  criterion=entropy, max_depth=3, n_estimators=400, score=0.790, total=   1.1s\n",
      "[CV] criterion=entropy, max_depth=3, n_estimators=400 ................\n",
      "[CV]  criterion=entropy, max_depth=3, n_estimators=400, score=0.800, total=   1.1s\n",
      "[CV] criterion=entropy, max_depth=3, n_estimators=400 ................\n",
      "[CV]  criterion=entropy, max_depth=3, n_estimators=400, score=0.757, total=   1.1s\n",
      "[CV] criterion=entropy, max_depth=5, n_estimators=100 ................\n",
      "[CV]  criterion=entropy, max_depth=5, n_estimators=100, score=0.828, total=   0.4s\n",
      "[CV] criterion=entropy, max_depth=5, n_estimators=100 ................\n",
      "[CV]  criterion=entropy, max_depth=5, n_estimators=100, score=0.835, total=   0.4s\n",
      "[CV] criterion=entropy, max_depth=5, n_estimators=100 ................\n",
      "[CV]  criterion=entropy, max_depth=5, n_estimators=100, score=0.840, total=   0.4s\n",
      "[CV] criterion=entropy, max_depth=5, n_estimators=100 ................\n",
      "[CV]  criterion=entropy, max_depth=5, n_estimators=100, score=0.840, total=   0.4s\n",
      "[CV] criterion=entropy, max_depth=5, n_estimators=100 ................\n",
      "[CV]  criterion=entropy, max_depth=5, n_estimators=100, score=0.830, total=   0.4s\n",
      "[CV] criterion=entropy, max_depth=5, n_estimators=200 ................\n",
      "[CV]  criterion=entropy, max_depth=5, n_estimators=200, score=0.828, total=   0.6s\n",
      "[CV] criterion=entropy, max_depth=5, n_estimators=200 ................\n",
      "[CV]  criterion=entropy, max_depth=5, n_estimators=200, score=0.833, total=   0.6s\n",
      "[CV] criterion=entropy, max_depth=5, n_estimators=200 ................\n",
      "[CV]  criterion=entropy, max_depth=5, n_estimators=200, score=0.855, total=   0.6s\n",
      "[CV] criterion=entropy, max_depth=5, n_estimators=200 ................\n",
      "[CV]  criterion=entropy, max_depth=5, n_estimators=200, score=0.828, total=   0.6s\n",
      "[CV] criterion=entropy, max_depth=5, n_estimators=200 ................\n",
      "[CV]  criterion=entropy, max_depth=5, n_estimators=200, score=0.823, total=   0.6s\n",
      "[CV] criterion=entropy, max_depth=5, n_estimators=300 ................\n",
      "[CV]  criterion=entropy, max_depth=5, n_estimators=300, score=0.840, total=   1.0s\n",
      "[CV] criterion=entropy, max_depth=5, n_estimators=300 ................\n",
      "[CV]  criterion=entropy, max_depth=5, n_estimators=300, score=0.830, total=   1.0s\n",
      "[CV] criterion=entropy, max_depth=5, n_estimators=300 ................\n",
      "[CV]  criterion=entropy, max_depth=5, n_estimators=300, score=0.870, total=   1.0s\n",
      "[CV] criterion=entropy, max_depth=5, n_estimators=300 ................\n",
      "[CV]  criterion=entropy, max_depth=5, n_estimators=300, score=0.828, total=   1.0s\n",
      "[CV] criterion=entropy, max_depth=5, n_estimators=300 ................\n",
      "[CV]  criterion=entropy, max_depth=5, n_estimators=300, score=0.840, total=   1.0s\n",
      "[CV] criterion=entropy, max_depth=5, n_estimators=400 ................\n",
      "[CV]  criterion=entropy, max_depth=5, n_estimators=400, score=0.830, total=   1.2s\n",
      "[CV] criterion=entropy, max_depth=5, n_estimators=400 ................\n",
      "[CV]  criterion=entropy, max_depth=5, n_estimators=400, score=0.845, total=   1.2s\n",
      "[CV] criterion=entropy, max_depth=5, n_estimators=400 ................\n",
      "[CV]  criterion=entropy, max_depth=5, n_estimators=400, score=0.868, total=   1.2s\n",
      "[CV] criterion=entropy, max_depth=5, n_estimators=400 ................\n",
      "[CV]  criterion=entropy, max_depth=5, n_estimators=400, score=0.848, total=   1.2s\n",
      "[CV] criterion=entropy, max_depth=5, n_estimators=400 ................\n",
      "[CV]  criterion=entropy, max_depth=5, n_estimators=400, score=0.830, total=   1.2s\n",
      "[CV] criterion=entropy, max_depth=7, n_estimators=100 ................\n",
      "[CV]  criterion=entropy, max_depth=7, n_estimators=100, score=0.870, total=   0.4s\n",
      "[CV] criterion=entropy, max_depth=7, n_estimators=100 ................\n",
      "[CV]  criterion=entropy, max_depth=7, n_estimators=100, score=0.868, total=   0.4s\n",
      "[CV] criterion=entropy, max_depth=7, n_estimators=100 ................\n",
      "[CV]  criterion=entropy, max_depth=7, n_estimators=100, score=0.887, total=   0.4s\n",
      "[CV] criterion=entropy, max_depth=7, n_estimators=100 ................\n",
      "[CV]  criterion=entropy, max_depth=7, n_estimators=100, score=0.853, total=   0.4s\n",
      "[CV] criterion=entropy, max_depth=7, n_estimators=100 ................\n",
      "[CV]  criterion=entropy, max_depth=7, n_estimators=100, score=0.838, total=   0.4s\n",
      "[CV] criterion=entropy, max_depth=7, n_estimators=200 ................\n",
      "[CV]  criterion=entropy, max_depth=7, n_estimators=200, score=0.877, total=   0.7s\n",
      "[CV] criterion=entropy, max_depth=7, n_estimators=200 ................\n",
      "[CV]  criterion=entropy, max_depth=7, n_estimators=200, score=0.868, total=   0.8s\n",
      "[CV] criterion=entropy, max_depth=7, n_estimators=200 ................\n",
      "[CV]  criterion=entropy, max_depth=7, n_estimators=200, score=0.895, total=   0.7s\n",
      "[CV] criterion=entropy, max_depth=7, n_estimators=200 ................\n",
      "[CV]  criterion=entropy, max_depth=7, n_estimators=200, score=0.855, total=   0.7s\n",
      "[CV] criterion=entropy, max_depth=7, n_estimators=200 ................\n",
      "[CV]  criterion=entropy, max_depth=7, n_estimators=200, score=0.845, total=   0.7s\n",
      "[CV] criterion=entropy, max_depth=7, n_estimators=300 ................\n",
      "[CV]  criterion=entropy, max_depth=7, n_estimators=300, score=0.863, total=   1.1s\n",
      "[CV] criterion=entropy, max_depth=7, n_estimators=300 ................\n",
      "[CV]  criterion=entropy, max_depth=7, n_estimators=300, score=0.860, total=   1.1s\n",
      "[CV] criterion=entropy, max_depth=7, n_estimators=300 ................\n",
      "[CV]  criterion=entropy, max_depth=7, n_estimators=300, score=0.892, total=   1.1s\n",
      "[CV] criterion=entropy, max_depth=7, n_estimators=300 ................\n",
      "[CV]  criterion=entropy, max_depth=7, n_estimators=300, score=0.845, total=   1.1s\n",
      "[CV] criterion=entropy, max_depth=7, n_estimators=300 ................\n",
      "[CV]  criterion=entropy, max_depth=7, n_estimators=300, score=0.853, total=   1.1s\n",
      "[CV] criterion=entropy, max_depth=7, n_estimators=400 ................\n",
      "[CV]  criterion=entropy, max_depth=7, n_estimators=400, score=0.863, total=   1.3s\n",
      "[CV] criterion=entropy, max_depth=7, n_estimators=400 ................\n",
      "[CV]  criterion=entropy, max_depth=7, n_estimators=400, score=0.860, total=   1.3s\n",
      "[CV] criterion=entropy, max_depth=7, n_estimators=400 ................\n",
      "[CV]  criterion=entropy, max_depth=7, n_estimators=400, score=0.897, total=   1.4s\n",
      "[CV] criterion=entropy, max_depth=7, n_estimators=400 ................\n",
      "[CV]  criterion=entropy, max_depth=7, n_estimators=400, score=0.868, total=   1.4s\n",
      "[CV] criterion=entropy, max_depth=7, n_estimators=400 ................\n",
      "[CV]  criterion=entropy, max_depth=7, n_estimators=400, score=0.853, total=   1.4s\n"
     ]
    },
    {
     "name": "stderr",
     "output_type": "stream",
     "text": [
      "[Parallel(n_jobs=1)]: Done 160 out of 160 | elapsed:  2.0min finished\n"
     ]
    },
    {
     "data": {
      "text/plain": [
       "GridSearchCV(cv=5, estimator=RandomForestClassifier(n_jobs=-1), n_jobs=1,\n",
       "             param_grid={'criterion': ['gini', 'entropy'],\n",
       "                         'max_depth': [1, 3, 5, 7],\n",
       "                         'n_estimators': [100, 200, 300, 400]},\n",
       "             scoring='accuracy', verbose=10)"
      ]
     },
     "execution_count": 7,
     "metadata": {},
     "output_type": "execute_result"
    }
   ],
   "source": [
    "model.fit(X,y)"
   ]
  },
  {
   "cell_type": "code",
   "execution_count": 8,
   "metadata": {},
   "outputs": [
    {
     "name": "stdout",
     "output_type": "stream",
     "text": [
      "0.8734999999999999\n",
      "{'bootstrap': True, 'ccp_alpha': 0.0, 'class_weight': None, 'criterion': 'gini', 'max_depth': 7, 'max_features': 'auto', 'max_leaf_nodes': None, 'max_samples': None, 'min_impurity_decrease': 0.0, 'min_impurity_split': None, 'min_samples_leaf': 1, 'min_samples_split': 2, 'min_weight_fraction_leaf': 0.0, 'n_estimators': 200, 'n_jobs': -1, 'oob_score': False, 'random_state': None, 'verbose': 0, 'warm_start': False}\n"
     ]
    }
   ],
   "source": [
    "print(model.best_score_)\n",
    "print(model.best_estimator_.get_params())"
   ]
  },
  {
   "cell_type": "code",
   "execution_count": 9,
   "metadata": {},
   "outputs": [],
   "source": [
    "# here we need to pay attention to only three parameters\n",
    "# 'criterion': 'entropy',\n",
    "# 'max_depth': 7,\n",
    "# 'n_estimators': 400"
   ]
  },
  {
   "cell_type": "code",
   "execution_count": 10,
   "metadata": {},
   "outputs": [],
   "source": [
    "classifier = ensemble.RandomForestClassifier(criterion ='entropy', max_depth = 7, n_estimators = 400,\n",
    "                                             n_jobs=-1)"
   ]
  },
  {
   "cell_type": "code",
   "execution_count": 11,
   "metadata": {},
   "outputs": [],
   "source": [
    "from sklearn.model_selection import cross_val_score"
   ]
  },
  {
   "cell_type": "code",
   "execution_count": 12,
   "metadata": {},
   "outputs": [],
   "source": [
    "score = cross_val_score(classifier,X,y)"
   ]
  },
  {
   "cell_type": "code",
   "execution_count": 13,
   "metadata": {},
   "outputs": [
    {
     "name": "stdout",
     "output_type": "stream",
     "text": [
      "scores\n",
      " [0.8675 0.8725 0.895  0.8575 0.8475]\n",
      "\n",
      " cv values (5,)\n"
     ]
    }
   ],
   "source": [
    "print('scores\\n',score)\n",
    "print('\\n cv values', score.shape)\n",
    "# so as we said earlier cv=5 is defult values"
   ]
  },
  {
   "cell_type": "code",
   "execution_count": 14,
   "metadata": {},
   "outputs": [
    {
     "data": {
      "text/plain": [
       "0.868"
      ]
     },
     "execution_count": 14,
     "metadata": {},
     "output_type": "execute_result"
    }
   ],
   "source": [
    "score.mean()"
   ]
  },
  {
   "cell_type": "code",
   "execution_count": 15,
   "metadata": {},
   "outputs": [
    {
     "name": "stdout",
     "output_type": "stream",
     "text": [
      "scores\n",
      " [0.855 0.885 0.89  0.87  0.885 0.89  0.86  0.845 0.835 0.875]\n",
      "\n",
      "cv values (10,)\n",
      "\n",
      "Score_Mean 0.8690000000000001\n"
     ]
    }
   ],
   "source": [
    "score = cross_val_score(classifier,X,y, cv=10)\n",
    "print('scores\\n',score)\n",
    "print('\\ncv values', score.shape)\n",
    "print('\\nScore_Mean', score.mean())"
   ]
  },
  {
   "cell_type": "code",
   "execution_count": null,
   "metadata": {},
   "outputs": [],
   "source": []
  }
 ],
 "metadata": {
  "kernelspec": {
   "display_name": "Python 3",
   "language": "python",
   "name": "python3"
  },
  "language_info": {
   "codemirror_mode": {
    "name": "ipython",
    "version": 3
   },
   "file_extension": ".py",
   "mimetype": "text/x-python",
   "name": "python",
   "nbconvert_exporter": "python",
   "pygments_lexer": "ipython3",
   "version": "3.7.6"
  }
 },
 "nbformat": 4,
 "nbformat_minor": 4
}

{
 "cells": [
  {
   "cell_type": "markdown",
   "execution_count": null,
   "metadata": {},
   "source": [
    "# Randomized_SearchCV\n",
    "\n",
    "### it is not going to all the values it is going to take some random values"
   ]
  },
  {
   "cell_type": "code",
   "execution_count": 1,
   "metadata": {},
   "outputs": [],
   "source": [
    "import pandas as pd\n",
    "import numpy as np\n",
    "from sklearn import ensemble\n",
    "from sklearn import metrics\n",
    "from sklearn import model_selection\n",
    "from sklearn.model_selection import cross_val_score"
   ]
  },
  {
   "cell_type": "code",
   "execution_count": 2,
   "metadata": {},
   "outputs": [],
   "source": [
    "df = pd.read_csv('../input/mobile-price-classification/train.csv')\n",
    "X  = df.drop('price_range', axis = 1).values\n",
    "y  = df['price_range'].values\n",
    "\n",
    "#n_jobs=-1 so that it can use all the cores of the system\n",
    "classifier = ensemble.RandomForestClassifier(n_jobs=-1)"
   ]
  },
  {
   "cell_type": "code",
   "execution_count": 3,
   "metadata": {},
   "outputs": [],
   "source": [
    "param_grid = {\n",
    "    \"n_estimators\": np.arange(100, 1500, 100), #100 to 1500 with 100 step_size\n",
    "    \"max_depth\": np.arange(1, 20),\n",
    "    \"criterion\": [\"gini\", \"entropy\"],\n",
    "}"
   ]
  },
  {
   "cell_type": "code",
   "execution_count": 4,
   "metadata": {},
   "outputs": [],
   "source": [
    "model = model_selection.RandomizedSearchCV(\n",
    "    estimator = classifier,\n",
    "    param_distributions = param_grid,\n",
    "    n_iter = 10,\n",
    "    scoring = \"accuracy\",\n",
    "    verbose = 10,  #max_value\n",
    "    n_jobs = 1,\n",
    "    cv = 5,   \n",
    "    #stratified fold is recomended\n",
    "    # if we dont specify cv = 5 but it is still going to use cv = 5\n",
    "    # if we have categoris as target or its binalry then is it going to use stratified k-fold     \n",
    ")\n"
   ]
  },
  {
   "cell_type": "code",
   "execution_count": 5,
   "metadata": {},
   "outputs": [
    {
     "name": "stdout",
     "output_type": "stream",
     "text": [
      "Fitting 5 folds for each of 10 candidates, totalling 50 fits\n",
      "[CV] n_estimators=1200, max_depth=9, criterion=gini ..................\n"
     ]
    },
    {
     "name": "stderr",
     "output_type": "stream",
     "text": [
      "[Parallel(n_jobs=1)]: Using backend SequentialBackend with 1 concurrent workers.\n"
     ]
    },
    {
     "name": "stdout",
     "output_type": "stream",
     "text": [
      "[CV]  n_estimators=1200, max_depth=9, criterion=gini, score=0.875, total=   5.8s\n",
      "[CV] n_estimators=1200, max_depth=9, criterion=gini ..................\n"
     ]
    },
    {
     "name": "stderr",
     "output_type": "stream",
     "text": [
      "[Parallel(n_jobs=1)]: Done   1 out of   1 | elapsed:    5.8s remaining:    0.0s\n"
     ]
    },
    {
     "name": "stdout",
     "output_type": "stream",
     "text": [
      "[CV]  n_estimators=1200, max_depth=9, criterion=gini, score=0.877, total=   3.8s\n",
      "[CV] n_estimators=1200, max_depth=9, criterion=gini ..................\n"
     ]
    },
    {
     "name": "stderr",
     "output_type": "stream",
     "text": [
      "[Parallel(n_jobs=1)]: Done   2 out of   2 | elapsed:    9.6s remaining:    0.0s\n"
     ]
    },
    {
     "name": "stdout",
     "output_type": "stream",
     "text": [
      "[CV]  n_estimators=1200, max_depth=9, criterion=gini, score=0.892, total=   3.9s\n",
      "[CV] n_estimators=1200, max_depth=9, criterion=gini ..................\n"
     ]
    },
    {
     "name": "stderr",
     "output_type": "stream",
     "text": [
      "[Parallel(n_jobs=1)]: Done   3 out of   3 | elapsed:   13.5s remaining:    0.0s\n"
     ]
    },
    {
     "name": "stdout",
     "output_type": "stream",
     "text": [
      "[CV]  n_estimators=1200, max_depth=9, criterion=gini, score=0.875, total=   3.7s\n",
      "[CV] n_estimators=1200, max_depth=9, criterion=gini ..................\n"
     ]
    },
    {
     "name": "stderr",
     "output_type": "stream",
     "text": [
      "[Parallel(n_jobs=1)]: Done   4 out of   4 | elapsed:   17.2s remaining:    0.0s\n"
     ]
    },
    {
     "name": "stdout",
     "output_type": "stream",
     "text": [
      "[CV]  n_estimators=1200, max_depth=9, criterion=gini, score=0.855, total=   3.8s\n",
      "[CV] n_estimators=1200, max_depth=14, criterion=gini .................\n"
     ]
    },
    {
     "name": "stderr",
     "output_type": "stream",
     "text": [
      "[Parallel(n_jobs=1)]: Done   5 out of   5 | elapsed:   21.0s remaining:    0.0s\n"
     ]
    },
    {
     "name": "stdout",
     "output_type": "stream",
     "text": [
      "[CV]  n_estimators=1200, max_depth=14, criterion=gini, score=0.880, total=   4.1s\n",
      "[CV] n_estimators=1200, max_depth=14, criterion=gini .................\n"
     ]
    },
    {
     "name": "stderr",
     "output_type": "stream",
     "text": [
      "[Parallel(n_jobs=1)]: Done   6 out of   6 | elapsed:   25.1s remaining:    0.0s\n"
     ]
    },
    {
     "name": "stdout",
     "output_type": "stream",
     "text": [
      "[CV]  n_estimators=1200, max_depth=14, criterion=gini, score=0.885, total=   3.9s\n",
      "[CV] n_estimators=1200, max_depth=14, criterion=gini .................\n"
     ]
    },
    {
     "name": "stderr",
     "output_type": "stream",
     "text": [
      "[Parallel(n_jobs=1)]: Done   7 out of   7 | elapsed:   29.1s remaining:    0.0s\n"
     ]
    },
    {
     "name": "stdout",
     "output_type": "stream",
     "text": [
      "[CV]  n_estimators=1200, max_depth=14, criterion=gini, score=0.897, total=   3.9s\n",
      "[CV] n_estimators=1200, max_depth=14, criterion=gini .................\n"
     ]
    },
    {
     "name": "stderr",
     "output_type": "stream",
     "text": [
      "[Parallel(n_jobs=1)]: Done   8 out of   8 | elapsed:   33.0s remaining:    0.0s\n"
     ]
    },
    {
     "name": "stdout",
     "output_type": "stream",
     "text": [
      "[CV]  n_estimators=1200, max_depth=14, criterion=gini, score=0.882, total=   3.9s\n",
      "[CV] n_estimators=1200, max_depth=14, criterion=gini .................\n"
     ]
    },
    {
     "name": "stderr",
     "output_type": "stream",
     "text": [
      "[Parallel(n_jobs=1)]: Done   9 out of   9 | elapsed:   36.9s remaining:    0.0s\n"
     ]
    },
    {
     "name": "stdout",
     "output_type": "stream",
     "text": [
      "[CV]  n_estimators=1200, max_depth=14, criterion=gini, score=0.865, total=   3.9s\n",
      "[CV] n_estimators=700, max_depth=6, criterion=gini ...................\n",
      "[CV]  n_estimators=700, max_depth=6, criterion=gini, score=0.863, total=   2.2s\n",
      "[CV] n_estimators=700, max_depth=6, criterion=gini ...................\n",
      "[CV]  n_estimators=700, max_depth=6, criterion=gini, score=0.860, total=   2.1s\n",
      "[CV] n_estimators=700, max_depth=6, criterion=gini ...................\n",
      "[CV]  n_estimators=700, max_depth=6, criterion=gini, score=0.877, total=   2.2s\n",
      "[CV] n_estimators=700, max_depth=6, criterion=gini ...................\n",
      "[CV]  n_estimators=700, max_depth=6, criterion=gini, score=0.850, total=   2.1s\n",
      "[CV] n_estimators=700, max_depth=6, criterion=gini ...................\n",
      "[CV]  n_estimators=700, max_depth=6, criterion=gini, score=0.835, total=   2.1s\n",
      "[CV] n_estimators=400, max_depth=2, criterion=gini ...................\n",
      "[CV]  n_estimators=400, max_depth=2, criterion=gini, score=0.760, total=   1.1s\n",
      "[CV] n_estimators=400, max_depth=2, criterion=gini ...................\n",
      "[CV]  n_estimators=400, max_depth=2, criterion=gini, score=0.730, total=   1.1s\n",
      "[CV] n_estimators=400, max_depth=2, criterion=gini ...................\n",
      "[CV]  n_estimators=400, max_depth=2, criterion=gini, score=0.760, total=   1.1s\n",
      "[CV] n_estimators=400, max_depth=2, criterion=gini ...................\n",
      "[CV]  n_estimators=400, max_depth=2, criterion=gini, score=0.777, total=   1.2s\n",
      "[CV] n_estimators=400, max_depth=2, criterion=gini ...................\n",
      "[CV]  n_estimators=400, max_depth=2, criterion=gini, score=0.767, total=   1.2s\n",
      "[CV] n_estimators=1400, max_depth=8, criterion=gini ..................\n",
      "[CV]  n_estimators=1400, max_depth=8, criterion=gini, score=0.877, total=   4.1s\n",
      "[CV] n_estimators=1400, max_depth=8, criterion=gini ..................\n",
      "[CV]  n_estimators=1400, max_depth=8, criterion=gini, score=0.877, total=   4.3s\n",
      "[CV] n_estimators=1400, max_depth=8, criterion=gini ..................\n",
      "[CV]  n_estimators=1400, max_depth=8, criterion=gini, score=0.887, total=   4.3s\n",
      "[CV] n_estimators=1400, max_depth=8, criterion=gini ..................\n",
      "[CV]  n_estimators=1400, max_depth=8, criterion=gini, score=0.870, total=   4.3s\n",
      "[CV] n_estimators=1400, max_depth=8, criterion=gini ..................\n",
      "[CV]  n_estimators=1400, max_depth=8, criterion=gini, score=0.848, total=   4.5s\n",
      "[CV] n_estimators=900, max_depth=13, criterion=entropy ...............\n",
      "[CV]  n_estimators=900, max_depth=13, criterion=entropy, score=0.885, total=   3.8s\n",
      "[CV] n_estimators=900, max_depth=13, criterion=entropy ...............\n",
      "[CV]  n_estimators=900, max_depth=13, criterion=entropy, score=0.892, total=   3.9s\n",
      "[CV] n_estimators=900, max_depth=13, criterion=entropy ...............\n",
      "[CV]  n_estimators=900, max_depth=13, criterion=entropy, score=0.910, total=   3.6s\n",
      "[CV] n_estimators=900, max_depth=13, criterion=entropy ...............\n",
      "[CV]  n_estimators=900, max_depth=13, criterion=entropy, score=0.865, total=   3.5s\n",
      "[CV] n_estimators=900, max_depth=13, criterion=entropy ...............\n",
      "[CV]  n_estimators=900, max_depth=13, criterion=entropy, score=0.877, total=   3.5s\n",
      "[CV] n_estimators=1100, max_depth=16, criterion=gini .................\n",
      "[CV]  n_estimators=1100, max_depth=16, criterion=gini, score=0.887, total=   3.6s\n",
      "[CV] n_estimators=1100, max_depth=16, criterion=gini .................\n",
      "[CV]  n_estimators=1100, max_depth=16, criterion=gini, score=0.887, total=   3.6s\n",
      "[CV] n_estimators=1100, max_depth=16, criterion=gini .................\n",
      "[CV]  n_estimators=1100, max_depth=16, criterion=gini, score=0.895, total=   3.5s\n",
      "[CV] n_estimators=1100, max_depth=16, criterion=gini .................\n",
      "[CV]  n_estimators=1100, max_depth=16, criterion=gini, score=0.875, total=   3.6s\n",
      "[CV] n_estimators=1100, max_depth=16, criterion=gini .................\n",
      "[CV]  n_estimators=1100, max_depth=16, criterion=gini, score=0.863, total=   3.5s\n",
      "[CV] n_estimators=1400, max_depth=3, criterion=entropy ...............\n",
      "[CV]  n_estimators=1400, max_depth=3, criterion=entropy, score=0.777, total=   3.7s\n",
      "[CV] n_estimators=1400, max_depth=3, criterion=entropy ...............\n",
      "[CV]  n_estimators=1400, max_depth=3, criterion=entropy, score=0.767, total=   3.7s\n",
      "[CV] n_estimators=1400, max_depth=3, criterion=entropy ...............\n",
      "[CV]  n_estimators=1400, max_depth=3, criterion=entropy, score=0.785, total=   4.0s\n",
      "[CV] n_estimators=1400, max_depth=3, criterion=entropy ...............\n",
      "[CV]  n_estimators=1400, max_depth=3, criterion=entropy, score=0.795, total=   3.8s\n",
      "[CV] n_estimators=1400, max_depth=3, criterion=entropy ...............\n",
      "[CV]  n_estimators=1400, max_depth=3, criterion=entropy, score=0.770, total=   3.9s\n",
      "[CV] n_estimators=1400, max_depth=17, criterion=entropy ..............\n",
      "[CV]  n_estimators=1400, max_depth=17, criterion=entropy, score=0.885, total=   5.7s\n",
      "[CV] n_estimators=1400, max_depth=17, criterion=entropy ..............\n",
      "[CV]  n_estimators=1400, max_depth=17, criterion=entropy, score=0.895, total=   5.5s\n",
      "[CV] n_estimators=1400, max_depth=17, criterion=entropy ..............\n",
      "[CV]  n_estimators=1400, max_depth=17, criterion=entropy, score=0.910, total=   5.7s\n",
      "[CV] n_estimators=1400, max_depth=17, criterion=entropy ..............\n",
      "[CV]  n_estimators=1400, max_depth=17, criterion=entropy, score=0.880, total=   5.5s\n",
      "[CV] n_estimators=1400, max_depth=17, criterion=entropy ..............\n",
      "[CV]  n_estimators=1400, max_depth=17, criterion=entropy, score=0.873, total=   5.5s\n",
      "[CV] n_estimators=500, max_depth=6, criterion=entropy ................\n",
      "[CV]  n_estimators=500, max_depth=6, criterion=entropy, score=0.858, total=   1.7s\n",
      "[CV] n_estimators=500, max_depth=6, criterion=entropy ................\n",
      "[CV]  n_estimators=500, max_depth=6, criterion=entropy, score=0.848, total=   1.7s\n",
      "[CV] n_estimators=500, max_depth=6, criterion=entropy ................\n",
      "[CV]  n_estimators=500, max_depth=6, criterion=entropy, score=0.875, total=   1.8s\n",
      "[CV] n_estimators=500, max_depth=6, criterion=entropy ................\n",
      "[CV]  n_estimators=500, max_depth=6, criterion=entropy, score=0.843, total=   1.7s\n",
      "[CV] n_estimators=500, max_depth=6, criterion=entropy ................\n",
      "[CV]  n_estimators=500, max_depth=6, criterion=entropy, score=0.848, total=   1.7s\n"
     ]
    },
    {
     "name": "stderr",
     "output_type": "stream",
     "text": [
      "[Parallel(n_jobs=1)]: Done  50 out of  50 | elapsed:  2.8min finished\n"
     ]
    },
    {
     "data": {
      "text/plain": [
       "RandomizedSearchCV(cv=5, estimator=RandomForestClassifier(n_jobs=-1), n_jobs=1,\n",
       "                   param_distributions={'criterion': ['gini', 'entropy'],\n",
       "                                        'max_depth': array([ 1,  2,  3,  4,  5,  6,  7,  8,  9, 10, 11, 12, 13, 14, 15, 16, 17,\n",
       "       18, 19]),\n",
       "                                        'n_estimators': array([ 100,  200,  300,  400,  500,  600,  700,  800,  900, 1000, 1100,\n",
       "       1200, 1300, 1400])},\n",
       "                   scoring='accuracy', verbose=10)"
      ]
     },
     "execution_count": 5,
     "metadata": {},
     "output_type": "execute_result"
    }
   ],
   "source": [
    "model.fit(X,y)"
   ]
  },
  {
   "cell_type": "code",
   "execution_count": 6,
   "metadata": {},
   "outputs": [
    {
     "name": "stdout",
     "output_type": "stream",
     "text": [
      "0.8885\n",
      "{'bootstrap': True, 'ccp_alpha': 0.0, 'class_weight': None, 'criterion': 'entropy', 'max_depth': 17, 'max_features': 'auto', 'max_leaf_nodes': None, 'max_samples': None, 'min_impurity_decrease': 0.0, 'min_impurity_split': None, 'min_samples_leaf': 1, 'min_samples_split': 2, 'min_weight_fraction_leaf': 0.0, 'n_estimators': 1400, 'n_jobs': -1, 'oob_score': False, 'random_state': None, 'verbose': 0, 'warm_start': False}\n"
     ]
    }
   ],
   "source": [
    "print(model.best_score_)\n",
    "print(model.best_estimator_.get_params())"
   ]
  },
  {
   "cell_type": "code",
   "execution_count": 7,
   "metadata": {},
   "outputs": [],
   "source": [
    "classifier = ensemble.RandomForestClassifier(criterion ='entropy', max_depth = 15, n_estimators = 900,\n",
    "                                             n_jobs=-1)"
   ]
  },
  {
   "cell_type": "code",
   "execution_count": 8,
   "metadata": {},
   "outputs": [
    {
     "name": "stdout",
     "output_type": "stream",
     "text": [
      "scores\n",
      " [0.91  0.88  0.895 0.88  0.915 0.915 0.885 0.87  0.86  0.885]\n",
      "\n",
      "cv values (10,)\n",
      "\n",
      "Score_Mean 0.8895\n"
     ]
    }
   ],
   "source": [
    "score = cross_val_score(classifier,X,y, cv=10)\n",
    "print('scores\\n',score)\n",
    "print('\\ncv values', score.shape)\n",
    "print('\\nScore_Mean', score.mean())"
   ]
  }
 ],
 "metadata": {
  "kernelspec": {
   "display_name": "Python 3",
   "language": "python",
   "name": "python3"
  },
  "language_info": {
   "codemirror_mode": {
    "name": "ipython",
    "version": 3
   },
   "file_extension": ".py",
   "mimetype": "text/x-python",
   "name": "python",
   "nbconvert_exporter": "python",
   "pygments_lexer": "ipython3",
   "version": "3.7.6"
  }
 },
 "nbformat": 4,
 "nbformat_minor": 4
}

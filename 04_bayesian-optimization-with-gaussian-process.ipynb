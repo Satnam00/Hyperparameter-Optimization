{
 "cells": [
  {
   "cell_type": "markdown",
   "execution_count": null,
   "metadata": {},
   "source": [
    "#  Bayesian Optimization with Gaussian Process"
   ]
  },
  {
   "cell_type": "code",
   "execution_count": 1,
   "metadata": {},
   "outputs": [],
   "source": [
    "import pandas as pd\n",
    "import numpy as np\n",
    "\n",
    "from sklearn import ensemble\n",
    "from sklearn import metrics\n",
    "from sklearn import model_selection\n",
    "from sklearn import preprocessing\n",
    "from sklearn import decomposition\n",
    "from sklearn import pipeline"
   ]
  },
  {
   "cell_type": "code",
   "execution_count": 2,
   "metadata": {},
   "outputs": [],
   "source": [
    "df = pd.read_csv('../input/mobile-price-classification/train.csv')\n",
    "X  = df.drop('price_range', axis = 1).values\n",
    "y  = df['price_range'].values"
   ]
  },
  {
   "cell_type": "markdown",
   "execution_count": null,
   "metadata": {},
   "source": [
    "https://scikit-optimize.github.io/stable/modules/generated/skopt.gp_minimize.html"
   ]
  },
  {
   "cell_type": "code",
   "execution_count": 3,
   "metadata": {},
   "outputs": [],
   "source": [
    "def optimize(params, param_names, x, y):\n",
    "    print(params, param_names)\n",
    "    params = dict(zip(param_names, params))  #this will not work if we are tuning the params of different models\n",
    "    model  = ensemble.RandomForestClassifier(**params) #**params to read the dict\n",
    "    kf     = model_selection.StratifiedKFold(n_splits = 5)\n",
    "    \n",
    "    accuracies = []\n",
    "    for idx in kf.split(X=x, y=y):\n",
    "        train_idx, test_idx = idx[0], idx[1]\n",
    "        \n",
    "        xtrain = x[train_idx]\n",
    "        ytrain = y[train_idx]\n",
    "        xtest = x[test_idx]\n",
    "        ytest = y[test_idx]\n",
    "        \n",
    "        model.fit(xtrain, ytrain)\n",
    "        preds = model.predict(xtest)\n",
    "        fold_acc = metrics.accuracy_score(ytest, preds)\n",
    "        \n",
    "        accuracies.append(fold_acc)\n",
    "    \n",
    "    return -1*np.mean(accuracies)"
   ]
  },
  {
   "cell_type": "code",
   "execution_count": 4,
   "metadata": {},
   "outputs": [],
   "source": [
    "from functools import partial\n",
    "from skopt import space\n",
    "from skopt import gp_minimize"
   ]
  },
  {
   "cell_type": "code",
   "execution_count": 5,
   "metadata": {},
   "outputs": [],
   "source": [
    "param_space = [\n",
    "    space.Integer(3,15, name = \"max_depth\"),\n",
    "    space.Integer(100, 600, name = \"n_estimators\"),\n",
    "    space.Categorical( [\"gini\", \"entropy\"], name = \"criterion\"),\n",
    "    \n",
    "    space.Real(0.1,1, prior = \"uniform\", name = \"max_features\")\n",
    "]"
   ]
  },
  {
   "cell_type": "code",
   "execution_count": 6,
   "metadata": {},
   "outputs": [
    {
     "data": {
      "text/plain": [
       "['max_depth', 'n_estimators', 'criterion', 'max_features']"
      ]
     },
     "execution_count": 6,
     "metadata": {},
     "output_type": "execute_result"
    }
   ],
   "source": [
    "param_names  = [\"max_depth\", \"n_estimators\", \"criterion\", \"max_features\" ]\n",
    "param_names"
   ]
  },
  {
   "cell_type": "code",
   "execution_count": 7,
   "metadata": {},
   "outputs": [],
   "source": [
    "optimization_func = partial(optimize, param_names = param_names, x = X, y = y)"
   ]
  },
  {
   "cell_type": "code",
   "execution_count": 8,
   "metadata": {},
   "outputs": [
    {
     "name": "stdout",
     "output_type": "stream",
     "text": [
      "Iteration No: 1 started. Evaluating function at random point.\n",
      "[9, 126, 'entropy', 0.912206898906815] ['max_depth', 'n_estimators', 'criterion', 'max_features']\n",
      "Iteration No: 1 ended. Evaluation done at random point.\n",
      "Time taken: 8.0921\n",
      "Function value obtained: -0.9060\n",
      "Current minimum: -0.9060\n",
      "Iteration No: 2 started. Evaluating function at random point.\n",
      "[11, 138, 'gini', 0.5927327398488184] ['max_depth', 'n_estimators', 'criterion', 'max_features']\n",
      "Iteration No: 2 ended. Evaluation done at random point.\n",
      "Time taken: 4.8718\n",
      "Function value obtained: -0.8975\n",
      "Current minimum: -0.9060\n",
      "Iteration No: 3 started. Evaluating function at random point.\n",
      "[13, 234, 'gini', 0.779772655152289] ['max_depth', 'n_estimators', 'criterion', 'max_features']\n",
      "Iteration No: 3 ended. Evaluation done at random point.\n",
      "Time taken: 9.9245\n",
      "Function value obtained: -0.8995\n",
      "Current minimum: -0.9060\n",
      "Iteration No: 4 started. Evaluating function at random point.\n",
      "[4, 372, 'entropy', 0.8106684152123416] ['max_depth', 'n_estimators', 'criterion', 'max_features']\n",
      "Iteration No: 4 ended. Evaluation done at random point.\n",
      "Time taken: 15.0601\n",
      "Function value obtained: -0.8315\n",
      "Current minimum: -0.9060\n",
      "Iteration No: 5 started. Evaluating function at random point.\n",
      "[9, 359, 'gini', 0.629503171105383] ['max_depth', 'n_estimators', 'criterion', 'max_features']\n",
      "Iteration No: 5 ended. Evaluation done at random point.\n",
      "Time taken: 12.8417\n",
      "Function value obtained: -0.8980\n",
      "Current minimum: -0.9060\n",
      "Iteration No: 6 started. Evaluating function at random point.\n",
      "[9, 178, 'entropy', 0.7614783548856662] ['max_depth', 'n_estimators', 'criterion', 'max_features']\n",
      "Iteration No: 6 ended. Evaluation done at random point.\n",
      "Time taken: 10.0700\n",
      "Function value obtained: -0.9085\n",
      "Current minimum: -0.9085\n",
      "Iteration No: 7 started. Evaluating function at random point.\n",
      "[11, 324, 'entropy', 0.3085043872525034] ['max_depth', 'n_estimators', 'criterion', 'max_features']\n",
      "Iteration No: 7 ended. Evaluation done at random point.\n",
      "Time taken: 12.4600\n",
      "Function value obtained: -0.9030\n",
      "Current minimum: -0.9085\n",
      "Iteration No: 8 started. Evaluating function at random point.\n",
      "[7, 497, 'gini', 0.7450752129553951] ['max_depth', 'n_estimators', 'criterion', 'max_features']\n",
      "Iteration No: 8 ended. Evaluation done at random point.\n",
      "Time taken: 18.2025\n",
      "Function value obtained: -0.8930\n",
      "Current minimum: -0.9085\n",
      "Iteration No: 9 started. Evaluating function at random point.\n",
      "[15, 313, 'entropy', 0.7686286642450797] ['max_depth', 'n_estimators', 'criterion', 'max_features']\n",
      "Iteration No: 9 ended. Evaluation done at random point.\n",
      "Time taken: 17.7000\n",
      "Function value obtained: -0.9065\n",
      "Current minimum: -0.9085\n",
      "Iteration No: 10 started. Evaluating function at random point.\n",
      "[7, 187, 'entropy', 0.8012638004830119] ['max_depth', 'n_estimators', 'criterion', 'max_features']\n",
      "Iteration No: 10 ended. Evaluation done at random point.\n",
      "Time taken: 11.1050\n",
      "Function value obtained: -0.9025\n",
      "Current minimum: -0.9085\n",
      "Iteration No: 11 started. Searching for the next optimal point.\n",
      "[15, 600, 'gini', 0.1] ['max_depth', 'n_estimators', 'criterion', 'max_features']\n",
      "Iteration No: 11 ended. Search finished for the next optimal point.\n",
      "Time taken: 12.5961\n",
      "Function value obtained: -0.8500\n",
      "Current minimum: -0.9085\n",
      "Iteration No: 12 started. Searching for the next optimal point.\n",
      "[9, 173, 'entropy', 0.8122658942969683] ['max_depth', 'n_estimators', 'criterion', 'max_features']\n",
      "Iteration No: 12 ended. Search finished for the next optimal point.\n",
      "Time taken: 10.6732\n",
      "Function value obtained: -0.9040\n",
      "Current minimum: -0.9085\n",
      "Iteration No: 13 started. Searching for the next optimal point.\n",
      "[8, 131, 'entropy', 0.47936122962007577] ['max_depth', 'n_estimators', 'criterion', 'max_features']\n",
      "Iteration No: 13 ended. Search finished for the next optimal point.\n",
      "Time taken: 6.1429\n",
      "Function value obtained: -0.9015\n",
      "Current minimum: -0.9085\n",
      "Iteration No: 14 started. Searching for the next optimal point.\n",
      "[9, 166, 'entropy', 0.7020619195032798] ['max_depth', 'n_estimators', 'criterion', 'max_features']\n",
      "Iteration No: 14 ended. Search finished for the next optimal point.\n",
      "Time taken: 9.5367\n",
      "Function value obtained: -0.9050\n",
      "Current minimum: -0.9085\n",
      "Iteration No: 15 started. Searching for the next optimal point.\n",
      "[9, 198, 'entropy', 1.0] ['max_depth', 'n_estimators', 'criterion', 'max_features']\n",
      "Iteration No: 15 ended. Search finished for the next optimal point.\n",
      "Time taken: 13.9920\n",
      "Function value obtained: -0.9030\n",
      "Current minimum: -0.9085\n"
     ]
    }
   ],
   "source": [
    "result = gp_minimize(optimization_func, dimensions = param_space, n_calls = 15, n_random_starts = 10, verbose = 10)"
   ]
  },
  {
   "cell_type": "code",
   "execution_count": 9,
   "metadata": {},
   "outputs": [
    {
     "name": "stdout",
     "output_type": "stream",
     "text": [
      "{'max_depth': 9, 'n_estimators': 178, 'criterion': 'entropy', 'max_features': 0.7614783548856662}\n"
     ]
    }
   ],
   "source": [
    "print(dict(zip(param_names, result.x)))"
   ]
  },
  {
   "cell_type": "code",
   "execution_count": 10,
   "metadata": {},
   "outputs": [],
   "source": [
    "classifier = ensemble.RandomForestClassifier(criterion ='entropy', max_depth = 12, n_estimators = 448,\n",
    "                                             max_features = 0.5306651750933808, n_jobs=-1)"
   ]
  },
  {
   "cell_type": "code",
   "execution_count": 11,
   "metadata": {},
   "outputs": [
    {
     "name": "stdout",
     "output_type": "stream",
     "text": [
      "scores\n",
      " [0.92  0.915 0.935 0.92  0.91  0.92  0.885 0.905 0.89  0.89 ]\n",
      "\n",
      "cv values (10,)\n",
      "\n",
      "Score_Mean 0.9090000000000001\n"
     ]
    }
   ],
   "source": [
    "from sklearn.model_selection import cross_val_score\n",
    "score = cross_val_score(classifier,X,y, cv=10)\n",
    "print('scores\\n',score)\n",
    "print('\\ncv values', score.shape)\n",
    "print('\\nScore_Mean', score.mean())"
   ]
  },
  {
   "cell_type": "code",
   "execution_count": null,
   "metadata": {},
   "outputs": [],
   "source": []
  }
 ],
 "metadata": {
  "kernelspec": {
   "display_name": "Python 3",
   "language": "python",
   "name": "python3"
  },
  "language_info": {
   "codemirror_mode": {
    "name": "ipython",
    "version": 3
   },
   "file_extension": ".py",
   "mimetype": "text/x-python",
   "name": "python",
   "nbconvert_exporter": "python",
   "pygments_lexer": "ipython3",
   "version": "3.7.6"
  }
 },
 "nbformat": 4,
 "nbformat_minor": 4
}

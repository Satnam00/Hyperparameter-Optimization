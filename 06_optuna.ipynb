{
 "cells": [
  {
   "cell_type": "markdown",
   "execution_count": null,
   "metadata": {},
   "source": [
    "# Optuna"
   ]
  },
  {
   "cell_type": "code",
   "execution_count": 1,
   "metadata": {},
   "outputs": [],
   "source": [
    "import pandas as pd\n",
    "import numpy as np\n",
    "\n",
    "from sklearn import ensemble\n",
    "from sklearn import metrics\n",
    "from sklearn import model_selection\n",
    "from sklearn import preprocessing"
   ]
  },
  {
   "cell_type": "code",
   "execution_count": 2,
   "metadata": {},
   "outputs": [],
   "source": [
    "import optuna\n",
    "\n",
    "from functools import partial\n",
    "from skopt import space\n",
    "from skopt import gp_minimize\n",
    "from hyperopt.pyll.base import scope #for the format int"
   ]
  },
  {
   "cell_type": "code",
   "execution_count": 3,
   "metadata": {},
   "outputs": [],
   "source": [
    "df = pd.read_csv('../input/mobile-price-classification/train.csv')\n",
    "X  = df.drop('price_range', axis = 1).values\n",
    "y  = df['price_range'].values"
   ]
  },
  {
   "cell_type": "code",
   "execution_count": 4,
   "metadata": {},
   "outputs": [],
   "source": [
    "def optimize(trials, x, y):\n",
    "    criterion     = trials.suggest_categorical(\"criterion\", [\"gini\", \"entropy\"])\n",
    "    n_estimators  = trials.suggest_int(\"n_estimators\", 20, 2000)\n",
    "    max_depth     = trials.suggest_int(\"max_depth\", 3, 25)\n",
    "    max_features  = trials.suggest_uniform(\"max_features\", 0.1, 1.0)\n",
    "    \n",
    "    model  = ensemble.RandomForestClassifier(\n",
    "        n_estimators = n_estimators,\n",
    "        max_depth    = max_depth,\n",
    "        max_features = max_features,\n",
    "        criterion    = criterion\n",
    "    )\n",
    "    kf     = model_selection.StratifiedKFold(n_splits = 5)\n",
    "    \n",
    "    accuracies = []\n",
    "    for idx in kf.split(X=x, y=y):\n",
    "        train_idx, test_idx = idx[0], idx[1]\n",
    "        \n",
    "        xtrain = x[train_idx]\n",
    "        ytrain = y[train_idx]\n",
    "        xtest = x[test_idx]\n",
    "        ytest = y[test_idx]\n",
    "        \n",
    "        model.fit(xtrain, ytrain)\n",
    "        preds = model.predict(xtest)\n",
    "        fold_acc = metrics.accuracy_score(ytest, preds)\n",
    "        \n",
    "        accuracies.append(fold_acc)\n",
    "    \n",
    "    return -1*np.mean(accuracies)"
   ]
  },
  {
   "cell_type": "code",
   "execution_count": 5,
   "metadata": {},
   "outputs": [],
   "source": [
    "optimization_func = partial(optimize, x = X, y = y)"
   ]
  },
  {
   "cell_type": "code",
   "execution_count": 6,
   "metadata": {},
   "outputs": [
    {
     "name": "stderr",
     "output_type": "stream",
     "text": [
      "[I 2020-07-28 20:31:08,413] Finished trial#0 with value: -0.8574999999999999 with parameters: {'criterion': 'entropy', 'n_estimators': 1822, 'max_depth': 15, 'max_features': 0.1246602252581683}. Best is trial#0 with value: -0.8574999999999999.\n",
      "[I 2020-07-28 20:31:28,752] Finished trial#1 with value: -0.9065 with parameters: {'criterion': 'entropy', 'n_estimators': 539, 'max_depth': 21, 'max_features': 0.42398280226882}. Best is trial#1 with value: -0.9065.\n",
      "[I 2020-07-28 20:31:59,001] Finished trial#2 with value: -0.9019999999999999 with parameters: {'criterion': 'gini', 'n_estimators': 1039, 'max_depth': 23, 'max_features': 0.5187436671403274}. Best is trial#1 with value: -0.9065.\n",
      "[I 2020-07-28 20:32:06,433] Finished trial#3 with value: -0.9040000000000001 with parameters: {'criterion': 'entropy', 'n_estimators': 125, 'max_depth': 9, 'max_features': 0.9763052585302266}. Best is trial#1 with value: -0.9065.\n",
      "[I 2020-07-28 20:32:22,092] Finished trial#4 with value: -0.7190000000000001 with parameters: {'criterion': 'entropy', 'n_estimators': 1259, 'max_depth': 4, 'max_features': 0.10929475929668717}. Best is trial#1 with value: -0.9065.\n",
      "[I 2020-07-28 20:32:58,654] Finished trial#5 with value: -0.8620000000000001 with parameters: {'criterion': 'gini', 'n_estimators': 1946, 'max_depth': 5, 'max_features': 0.43352282749713134}. Best is trial#1 with value: -0.9065.\n",
      "[I 2020-07-28 20:33:11,587] Finished trial#6 with value: -0.842 with parameters: {'criterion': 'gini', 'n_estimators': 817, 'max_depth': 13, 'max_features': 0.1305156643503894}. Best is trial#1 with value: -0.9065.\n",
      "[I 2020-07-28 20:33:21,926] Finished trial#7 with value: -0.9030000000000001 with parameters: {'criterion': 'gini', 'n_estimators': 292, 'max_depth': 19, 'max_features': 0.7328305045814245}. Best is trial#1 with value: -0.9065.\n",
      "[I 2020-07-28 20:33:23,153] Finished trial#8 with value: -0.8965 with parameters: {'criterion': 'entropy', 'n_estimators': 29, 'max_depth': 15, 'max_features': 0.4830495091265107}. Best is trial#1 with value: -0.9065.\n",
      "[I 2020-07-28 20:35:16,233] Finished trial#9 with value: -0.905 with parameters: {'criterion': 'entropy', 'n_estimators': 1910, 'max_depth': 22, 'max_features': 0.9626712344613592}. Best is trial#1 with value: -0.9065.\n",
      "[I 2020-07-28 20:35:35,776] Finished trial#10 with value: -0.8975 with parameters: {'criterion': 'entropy', 'n_estimators': 574, 'max_depth': 25, 'max_features': 0.3120658476537017}. Best is trial#1 with value: -0.9065.\n",
      "[I 2020-07-28 20:36:52,223] Finished trial#11 with value: -0.9075 with parameters: {'criterion': 'entropy', 'n_estimators': 1506, 'max_depth': 21, 'max_features': 0.75908596670592}. Best is trial#11 with value: -0.9075.\n",
      "[I 2020-07-28 20:38:03,448] Finished trial#12 with value: -0.9085000000000001 with parameters: {'criterion': 'entropy', 'n_estimators': 1459, 'max_depth': 19, 'max_features': 0.7262615793666412}. Best is trial#12 with value: -0.9085000000000001.\n",
      "[I 2020-07-28 20:39:13,844] Finished trial#13 with value: -0.9095000000000001 with parameters: {'criterion': 'entropy', 'n_estimators': 1448, 'max_depth': 18, 'max_features': 0.7278596576449761}. Best is trial#13 with value: -0.9095000000000001.\n",
      "[I 2020-07-28 20:40:26,763] Finished trial#14 with value: -0.9084999999999999 with parameters: {'criterion': 'entropy', 'n_estimators': 1497, 'max_depth': 18, 'max_features': 0.7209803472950592}. Best is trial#13 with value: -0.9095000000000001.\n"
     ]
    }
   ],
   "source": [
    "# direction = \"minimize\" bcz we are multiplying np.mean(accuracies) with -1\n",
    "# direction = \"maximize\" if  we are multiplying np.mean(accuracies) with 1\n",
    "\n",
    "study = optuna.create_study(direction = \"minimize\")\n",
    "study.optimize(optimization_func, n_trials = 15)"
   ]
  },
  {
   "cell_type": "markdown",
   "execution_count": null,
   "metadata": {},
   "source": [
    "https://optuna.org/"
   ]
  },
  {
   "cell_type": "code",
   "execution_count": 7,
   "metadata": {},
   "outputs": [
    {
     "name": "stdout",
     "output_type": "stream",
     "text": [
      "FrozenTrial(number=13, value=-0.9095000000000001, datetime_start=datetime.datetime(2020, 7, 28, 20, 38, 3, 451321), datetime_complete=datetime.datetime(2020, 7, 28, 20, 39, 13, 844092), params={'criterion': 'entropy', 'n_estimators': 1448, 'max_depth': 18, 'max_features': 0.7278596576449761}, distributions={'criterion': CategoricalDistribution(choices=('gini', 'entropy')), 'n_estimators': IntUniformDistribution(high=2000, low=20, step=1), 'max_depth': IntUniformDistribution(high=25, low=3, step=1), 'max_features': UniformDistribution(high=1.0, low=0.1)}, user_attrs={}, system_attrs={}, intermediate_values={}, trial_id=13, state=TrialState.COMPLETE)\n"
     ]
    }
   ],
   "source": [
    " print(study.best_trial)"
   ]
  },
  {
   "cell_type": "code",
   "execution_count": 8,
   "metadata": {},
   "outputs": [],
   "source": [
    "classifier = ensemble.RandomForestClassifier(criterion ='entropy', max_depth = 16, \n",
    "                                        max_features = 0.8356537680916444, n_estimators = 1383, n_jobs=-1)"
   ]
  },
  {
   "cell_type": "code",
   "execution_count": 9,
   "metadata": {},
   "outputs": [
    {
     "name": "stdout",
     "output_type": "stream",
     "text": [
      "scores\n",
      " [0.91  0.93  0.925 0.905 0.91  0.925 0.895 0.9   0.9   0.9  ]\n",
      "\n",
      "cv values (10,)\n",
      "\n",
      "Score_Mean 0.9099999999999999\n"
     ]
    }
   ],
   "source": [
    "from sklearn.model_selection import cross_val_score\n",
    "score = cross_val_score(classifier,X,y, cv=10)\n",
    "print('scores\\n',score)\n",
    "print('\\ncv values', score.shape)\n",
    "print('\\nScore_Mean', score.mean())"
   ]
  },
  {
   "cell_type": "code",
   "execution_count": null,
   "metadata": {},
   "outputs": [],
   "source": []
  }
 ],
 "metadata": {
  "kernelspec": {
   "display_name": "Python 3",
   "language": "python",
   "name": "python3"
  },
  "language_info": {
   "codemirror_mode": {
    "name": "ipython",
    "version": 3
   },
   "file_extension": ".py",
   "mimetype": "text/x-python",
   "name": "python",
   "nbconvert_exporter": "python",
   "pygments_lexer": "ipython3",
   "version": "3.7.6"
  }
 },
 "nbformat": 4,
 "nbformat_minor": 4
}

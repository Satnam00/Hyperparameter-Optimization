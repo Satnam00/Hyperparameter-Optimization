{
 "cells": [
  {
   "cell_type": "markdown",
   "execution_count": null,
   "metadata": {},
   "source": [
    "# Grid/RandomSearchCV with Pipelines"
   ]
  },
  {
   "cell_type": "code",
   "execution_count": 1,
   "metadata": {},
   "outputs": [],
   "source": [
    "import pandas as pd\n",
    "import numpy as np\n",
    "\n",
    "from sklearn import ensemble\n",
    "from sklearn import metrics\n",
    "from sklearn import model_selection\n",
    "from sklearn import preprocessing\n",
    "from sklearn import decomposition\n",
    "from sklearn import pipeline"
   ]
  },
  {
   "cell_type": "code",
   "execution_count": 2,
   "metadata": {},
   "outputs": [],
   "source": [
    "df = pd.read_csv('../input/mobile-price-classification/train.csv')\n",
    "X  = df.drop('price_range', axis = 1).values\n",
    "y  = df['price_range'].values"
   ]
  },
  {
   "cell_type": "code",
   "execution_count": 3,
   "metadata": {},
   "outputs": [],
   "source": [
    "scl = preprocessing.StandardScaler()\n",
    "pca = decomposition.PCA()"
   ]
  },
  {
   "cell_type": "code",
   "execution_count": 4,
   "metadata": {},
   "outputs": [],
   "source": [
    "#n_jobs=-1 so that it can use all the cores of the system\n",
    "rf = ensemble.RandomForestClassifier(n_jobs=-1)"
   ]
  },
  {
   "cell_type": "code",
   "execution_count": 5,
   "metadata": {},
   "outputs": [],
   "source": [
    "classifier = pipeline.Pipeline([(\"scaling\", scl),(\"pca\", pca),(\"rf\", rf)])"
   ]
  },
  {
   "cell_type": "code",
   "execution_count": 6,
   "metadata": {},
   "outputs": [],
   "source": [
    "param_grid = {\n",
    "    \"pca__n_components\": np.arange(5, 10),\n",
    "    \"rf__n_estimators\": np.arange(100, 1500, 100), #100 to 1500 with 100 step_size\n",
    "    \"rf__max_depth\": np.arange(1, 20),\n",
    "    \"rf__criterion\": [\"gini\", \"entropy\"],\n",
    "}"
   ]
  },
  {
   "cell_type": "code",
   "execution_count": 7,
   "metadata": {},
   "outputs": [],
   "source": [
    "model = model_selection.RandomizedSearchCV(\n",
    "    estimator = classifier,\n",
    "    param_distributions = param_grid,\n",
    "    n_iter = 5,\n",
    "    scoring = \"accuracy\",\n",
    "    verbose = 10,  #max_value\n",
    "    n_jobs = 1,\n",
    "    cv = 5,   \n",
    "    #stratified fold is recomended\n",
    "    # if we dont specify cv = 5 but it is still going to use cv = 5\n",
    "    # if we have categoris as target or its binalry then is it going to use stratified k-fold     \n",
    ")"
   ]
  },
  {
   "cell_type": "markdown",
   "execution_count": null,
   "metadata": {},
   "source": [
    "# RandomizedSearchCV"
   ]
  },
  {
   "cell_type": "code",
   "execution_count": 8,
   "metadata": {},
   "outputs": [
    {
     "name": "stdout",
     "output_type": "stream",
     "text": [
      "Fitting 5 folds for each of 5 candidates, totalling 25 fits\n",
      "[CV] rf__n_estimators=800, rf__max_depth=4, rf__criterion=entropy, pca__n_components=9 \n"
     ]
    },
    {
     "name": "stderr",
     "output_type": "stream",
     "text": [
      "[Parallel(n_jobs=1)]: Using backend SequentialBackend with 1 concurrent workers.\n"
     ]
    },
    {
     "name": "stdout",
     "output_type": "stream",
     "text": [
      "[CV]  rf__n_estimators=800, rf__max_depth=4, rf__criterion=entropy, pca__n_components=9, score=0.405, total=   4.2s\n",
      "[CV] rf__n_estimators=800, rf__max_depth=4, rf__criterion=entropy, pca__n_components=9 \n"
     ]
    },
    {
     "name": "stderr",
     "output_type": "stream",
     "text": [
      "[Parallel(n_jobs=1)]: Done   1 out of   1 | elapsed:    4.2s remaining:    0.0s\n"
     ]
    },
    {
     "name": "stdout",
     "output_type": "stream",
     "text": [
      "[CV]  rf__n_estimators=800, rf__max_depth=4, rf__criterion=entropy, pca__n_components=9, score=0.475, total=   2.9s\n",
      "[CV] rf__n_estimators=800, rf__max_depth=4, rf__criterion=entropy, pca__n_components=9 \n"
     ]
    },
    {
     "name": "stderr",
     "output_type": "stream",
     "text": [
      "[Parallel(n_jobs=1)]: Done   2 out of   2 | elapsed:    7.0s remaining:    0.0s\n"
     ]
    },
    {
     "name": "stdout",
     "output_type": "stream",
     "text": [
      "[CV]  rf__n_estimators=800, rf__max_depth=4, rf__criterion=entropy, pca__n_components=9, score=0.485, total=   2.8s\n",
      "[CV] rf__n_estimators=800, rf__max_depth=4, rf__criterion=entropy, pca__n_components=9 \n"
     ]
    },
    {
     "name": "stderr",
     "output_type": "stream",
     "text": [
      "[Parallel(n_jobs=1)]: Done   3 out of   3 | elapsed:    9.9s remaining:    0.0s\n"
     ]
    },
    {
     "name": "stdout",
     "output_type": "stream",
     "text": [
      "[CV]  rf__n_estimators=800, rf__max_depth=4, rf__criterion=entropy, pca__n_components=9, score=0.487, total=   3.1s\n",
      "[CV] rf__n_estimators=800, rf__max_depth=4, rf__criterion=entropy, pca__n_components=9 \n"
     ]
    },
    {
     "name": "stderr",
     "output_type": "stream",
     "text": [
      "[Parallel(n_jobs=1)]: Done   4 out of   4 | elapsed:   13.0s remaining:    0.0s\n"
     ]
    },
    {
     "name": "stdout",
     "output_type": "stream",
     "text": [
      "[CV]  rf__n_estimators=800, rf__max_depth=4, rf__criterion=entropy, pca__n_components=9, score=0.432, total=   3.0s\n",
      "[CV] rf__n_estimators=200, rf__max_depth=1, rf__criterion=gini, pca__n_components=5 \n"
     ]
    },
    {
     "name": "stderr",
     "output_type": "stream",
     "text": [
      "[Parallel(n_jobs=1)]: Done   5 out of   5 | elapsed:   16.0s remaining:    0.0s\n"
     ]
    },
    {
     "name": "stdout",
     "output_type": "stream",
     "text": [
      "[CV]  rf__n_estimators=200, rf__max_depth=1, rf__criterion=gini, pca__n_components=5, score=0.350, total=   0.5s\n",
      "[CV] rf__n_estimators=200, rf__max_depth=1, rf__criterion=gini, pca__n_components=5 \n"
     ]
    },
    {
     "name": "stderr",
     "output_type": "stream",
     "text": [
      "[Parallel(n_jobs=1)]: Done   6 out of   6 | elapsed:   16.5s remaining:    0.0s\n"
     ]
    },
    {
     "name": "stdout",
     "output_type": "stream",
     "text": [
      "[CV]  rf__n_estimators=200, rf__max_depth=1, rf__criterion=gini, pca__n_components=5, score=0.375, total=   0.6s\n",
      "[CV] rf__n_estimators=200, rf__max_depth=1, rf__criterion=gini, pca__n_components=5 \n"
     ]
    },
    {
     "name": "stderr",
     "output_type": "stream",
     "text": [
      "[Parallel(n_jobs=1)]: Done   7 out of   7 | elapsed:   17.1s remaining:    0.0s\n"
     ]
    },
    {
     "name": "stdout",
     "output_type": "stream",
     "text": [
      "[CV]  rf__n_estimators=200, rf__max_depth=1, rf__criterion=gini, pca__n_components=5, score=0.287, total=   0.6s\n",
      "[CV] rf__n_estimators=200, rf__max_depth=1, rf__criterion=gini, pca__n_components=5 \n"
     ]
    },
    {
     "name": "stderr",
     "output_type": "stream",
     "text": [
      "[Parallel(n_jobs=1)]: Done   8 out of   8 | elapsed:   17.7s remaining:    0.0s\n"
     ]
    },
    {
     "name": "stdout",
     "output_type": "stream",
     "text": [
      "[CV]  rf__n_estimators=200, rf__max_depth=1, rf__criterion=gini, pca__n_components=5, score=0.305, total=   0.5s\n",
      "[CV] rf__n_estimators=200, rf__max_depth=1, rf__criterion=gini, pca__n_components=5 \n"
     ]
    },
    {
     "name": "stderr",
     "output_type": "stream",
     "text": [
      "[Parallel(n_jobs=1)]: Done   9 out of   9 | elapsed:   18.3s remaining:    0.0s\n"
     ]
    },
    {
     "name": "stdout",
     "output_type": "stream",
     "text": [
      "[CV]  rf__n_estimators=200, rf__max_depth=1, rf__criterion=gini, pca__n_components=5, score=0.285, total=   0.5s\n",
      "[CV] rf__n_estimators=1000, rf__max_depth=11, rf__criterion=entropy, pca__n_components=9 \n",
      "[CV]  rf__n_estimators=1000, rf__max_depth=11, rf__criterion=entropy, pca__n_components=9, score=0.405, total=   5.8s\n",
      "[CV] rf__n_estimators=1000, rf__max_depth=11, rf__criterion=entropy, pca__n_components=9 \n",
      "[CV]  rf__n_estimators=1000, rf__max_depth=11, rf__criterion=entropy, pca__n_components=9, score=0.455, total=   5.7s\n",
      "[CV] rf__n_estimators=1000, rf__max_depth=11, rf__criterion=entropy, pca__n_components=9 \n",
      "[CV]  rf__n_estimators=1000, rf__max_depth=11, rf__criterion=entropy, pca__n_components=9, score=0.485, total=   5.5s\n",
      "[CV] rf__n_estimators=1000, rf__max_depth=11, rf__criterion=entropy, pca__n_components=9 \n",
      "[CV]  rf__n_estimators=1000, rf__max_depth=11, rf__criterion=entropy, pca__n_components=9, score=0.517, total=   5.4s\n",
      "[CV] rf__n_estimators=1000, rf__max_depth=11, rf__criterion=entropy, pca__n_components=9 \n",
      "[CV]  rf__n_estimators=1000, rf__max_depth=11, rf__criterion=entropy, pca__n_components=9, score=0.425, total=   5.6s\n",
      "[CV] rf__n_estimators=700, rf__max_depth=1, rf__criterion=entropy, pca__n_components=6 \n",
      "[CV]  rf__n_estimators=700, rf__max_depth=1, rf__criterion=entropy, pca__n_components=6, score=0.395, total=   1.7s\n",
      "[CV] rf__n_estimators=700, rf__max_depth=1, rf__criterion=entropy, pca__n_components=6 \n",
      "[CV]  rf__n_estimators=700, rf__max_depth=1, rf__criterion=entropy, pca__n_components=6, score=0.407, total=   1.7s\n",
      "[CV] rf__n_estimators=700, rf__max_depth=1, rf__criterion=entropy, pca__n_components=6 \n",
      "[CV]  rf__n_estimators=700, rf__max_depth=1, rf__criterion=entropy, pca__n_components=6, score=0.378, total=   1.7s\n",
      "[CV] rf__n_estimators=700, rf__max_depth=1, rf__criterion=entropy, pca__n_components=6 \n",
      "[CV]  rf__n_estimators=700, rf__max_depth=1, rf__criterion=entropy, pca__n_components=6, score=0.385, total=   1.7s\n",
      "[CV] rf__n_estimators=700, rf__max_depth=1, rf__criterion=entropy, pca__n_components=6 \n",
      "[CV]  rf__n_estimators=700, rf__max_depth=1, rf__criterion=entropy, pca__n_components=6, score=0.390, total=   1.7s\n",
      "[CV] rf__n_estimators=600, rf__max_depth=3, rf__criterion=entropy, pca__n_components=8 \n",
      "[CV]  rf__n_estimators=600, rf__max_depth=3, rf__criterion=entropy, pca__n_components=8, score=0.410, total=   1.8s\n",
      "[CV] rf__n_estimators=600, rf__max_depth=3, rf__criterion=entropy, pca__n_components=8 \n",
      "[CV]  rf__n_estimators=600, rf__max_depth=3, rf__criterion=entropy, pca__n_components=8, score=0.435, total=   1.8s\n",
      "[CV] rf__n_estimators=600, rf__max_depth=3, rf__criterion=entropy, pca__n_components=8 \n",
      "[CV]  rf__n_estimators=600, rf__max_depth=3, rf__criterion=entropy, pca__n_components=8, score=0.398, total=   1.9s\n",
      "[CV] rf__n_estimators=600, rf__max_depth=3, rf__criterion=entropy, pca__n_components=8 \n",
      "[CV]  rf__n_estimators=600, rf__max_depth=3, rf__criterion=entropy, pca__n_components=8, score=0.403, total=   1.8s\n",
      "[CV] rf__n_estimators=600, rf__max_depth=3, rf__criterion=entropy, pca__n_components=8 \n",
      "[CV]  rf__n_estimators=600, rf__max_depth=3, rf__criterion=entropy, pca__n_components=8, score=0.425, total=   1.8s\n"
     ]
    },
    {
     "name": "stderr",
     "output_type": "stream",
     "text": [
      "[Parallel(n_jobs=1)]: Done  25 out of  25 | elapsed:  1.1min finished\n"
     ]
    },
    {
     "data": {
      "text/plain": [
       "RandomizedSearchCV(cv=5,\n",
       "                   estimator=Pipeline(steps=[('scaling', StandardScaler()),\n",
       "                                             ('pca', PCA()),\n",
       "                                             ('rf',\n",
       "                                              RandomForestClassifier(n_jobs=-1))]),\n",
       "                   n_iter=5, n_jobs=1,\n",
       "                   param_distributions={'pca__n_components': array([5, 6, 7, 8, 9]),\n",
       "                                        'rf__criterion': ['gini', 'entropy'],\n",
       "                                        'rf__max_depth': array([ 1,  2,  3,  4,  5,  6,  7,  8,  9, 10, 11, 12, 13, 14, 15, 16, 17,\n",
       "       18, 19]),\n",
       "                                        'rf__n_estimators': array([ 100,  200,  300,  400,  500,  600,  700,  800,  900, 1000, 1100,\n",
       "       1200, 1300, 1400])},\n",
       "                   scoring='accuracy', verbose=10)"
      ]
     },
     "execution_count": 8,
     "metadata": {},
     "output_type": "execute_result"
    }
   ],
   "source": [
    "model.fit(X,y)"
   ]
  },
  {
   "cell_type": "code",
   "execution_count": 9,
   "metadata": {},
   "outputs": [
    {
     "name": "stdout",
     "output_type": "stream",
     "text": [
      "0.4575\n",
      "{'memory': None, 'steps': [('scaling', StandardScaler()), ('pca', PCA(n_components=9)), ('rf', RandomForestClassifier(criterion='entropy', max_depth=11, n_estimators=1000,\n",
      "                       n_jobs=-1))], 'verbose': False, 'scaling': StandardScaler(), 'pca': PCA(n_components=9), 'rf': RandomForestClassifier(criterion='entropy', max_depth=11, n_estimators=1000,\n",
      "                       n_jobs=-1), 'scaling__copy': True, 'scaling__with_mean': True, 'scaling__with_std': True, 'pca__copy': True, 'pca__iterated_power': 'auto', 'pca__n_components': 9, 'pca__random_state': None, 'pca__svd_solver': 'auto', 'pca__tol': 0.0, 'pca__whiten': False, 'rf__bootstrap': True, 'rf__ccp_alpha': 0.0, 'rf__class_weight': None, 'rf__criterion': 'entropy', 'rf__max_depth': 11, 'rf__max_features': 'auto', 'rf__max_leaf_nodes': None, 'rf__max_samples': None, 'rf__min_impurity_decrease': 0.0, 'rf__min_impurity_split': None, 'rf__min_samples_leaf': 1, 'rf__min_samples_split': 2, 'rf__min_weight_fraction_leaf': 0.0, 'rf__n_estimators': 1000, 'rf__n_jobs': -1, 'rf__oob_score': False, 'rf__random_state': None, 'rf__verbose': 0, 'rf__warm_start': False}\n"
     ]
    }
   ],
   "source": [
    "print(model.best_score_)\n",
    "print(model.best_estimator_.get_params())"
   ]
  },
  {
   "cell_type": "markdown",
   "execution_count": null,
   "metadata": {},
   "source": [
    "# GridSearchCV"
   ]
  },
  {
   "cell_type": "code",
   "execution_count": 10,
   "metadata": {},
   "outputs": [],
   "source": [
    "param_grid = {\n",
    "    \"pca__n_components\": [5, 10],\n",
    "    \"rf__n_estimators\": [100, 200, 300, 400],\n",
    "    \"rf__max_depth\": [1, 3, 5, 7],\n",
    "    \"rf__criterion\": [\"gini\", \"entropy\"]\n",
    "}"
   ]
  },
  {
   "cell_type": "code",
   "execution_count": 11,
   "metadata": {},
   "outputs": [],
   "source": [
    "model = model_selection.GridSearchCV(\n",
    "    estimator = classifier,\n",
    "    param_grid = param_grid,\n",
    "    scoring = \"accuracy\",\n",
    "    verbose = 10,  #max_value\n",
    "    n_jobs = 1,\n",
    "    \n",
    "    #stratified fold is recomended\n",
    "    # if we dont specify cv = 5 but it is still going to use cv = 5\n",
    "    # if we have categoris as target or its binalry then is it going to use stratified k-fold \n",
    "    cv = 5   \n",
    ")"
   ]
  },
  {
   "cell_type": "code",
   "execution_count": 12,
   "metadata": {},
   "outputs": [
    {
     "name": "stdout",
     "output_type": "stream",
     "text": [
      "Fitting 5 folds for each of 64 candidates, totalling 320 fits\n",
      "[CV] pca__n_components=5, rf__criterion=gini, rf__max_depth=1, rf__n_estimators=100 \n"
     ]
    },
    {
     "name": "stderr",
     "output_type": "stream",
     "text": [
      "[Parallel(n_jobs=1)]: Using backend SequentialBackend with 1 concurrent workers.\n"
     ]
    },
    {
     "name": "stdout",
     "output_type": "stream",
     "text": [
      "[CV]  pca__n_components=5, rf__criterion=gini, rf__max_depth=1, rf__n_estimators=100, score=0.345, total=   0.4s\n",
      "[CV] pca__n_components=5, rf__criterion=gini, rf__max_depth=1, rf__n_estimators=100 \n"
     ]
    },
    {
     "name": "stderr",
     "output_type": "stream",
     "text": [
      "[Parallel(n_jobs=1)]: Done   1 out of   1 | elapsed:    0.4s remaining:    0.0s\n"
     ]
    },
    {
     "name": "stdout",
     "output_type": "stream",
     "text": [
      "[CV]  pca__n_components=5, rf__criterion=gini, rf__max_depth=1, rf__n_estimators=100, score=0.390, total=   0.4s\n",
      "[CV] pca__n_components=5, rf__criterion=gini, rf__max_depth=1, rf__n_estimators=100 \n"
     ]
    },
    {
     "name": "stderr",
     "output_type": "stream",
     "text": [
      "[Parallel(n_jobs=1)]: Done   2 out of   2 | elapsed:    0.8s remaining:    0.0s\n"
     ]
    },
    {
     "name": "stdout",
     "output_type": "stream",
     "text": [
      "[CV]  pca__n_components=5, rf__criterion=gini, rf__max_depth=1, rf__n_estimators=100, score=0.328, total=   0.4s\n",
      "[CV] pca__n_components=5, rf__criterion=gini, rf__max_depth=1, rf__n_estimators=100 \n"
     ]
    },
    {
     "name": "stderr",
     "output_type": "stream",
     "text": [
      "[Parallel(n_jobs=1)]: Done   3 out of   3 | elapsed:    1.2s remaining:    0.0s\n"
     ]
    },
    {
     "name": "stdout",
     "output_type": "stream",
     "text": [
      "[CV]  pca__n_components=5, rf__criterion=gini, rf__max_depth=1, rf__n_estimators=100, score=0.338, total=   0.4s\n",
      "[CV] pca__n_components=5, rf__criterion=gini, rf__max_depth=1, rf__n_estimators=100 \n"
     ]
    },
    {
     "name": "stderr",
     "output_type": "stream",
     "text": [
      "[Parallel(n_jobs=1)]: Done   4 out of   4 | elapsed:    1.6s remaining:    0.0s\n"
     ]
    },
    {
     "name": "stdout",
     "output_type": "stream",
     "text": [
      "[CV]  pca__n_components=5, rf__criterion=gini, rf__max_depth=1, rf__n_estimators=100, score=0.278, total=   0.4s\n",
      "[CV] pca__n_components=5, rf__criterion=gini, rf__max_depth=1, rf__n_estimators=200 \n"
     ]
    },
    {
     "name": "stderr",
     "output_type": "stream",
     "text": [
      "[Parallel(n_jobs=1)]: Done   5 out of   5 | elapsed:    1.9s remaining:    0.0s\n"
     ]
    },
    {
     "name": "stdout",
     "output_type": "stream",
     "text": [
      "[CV]  pca__n_components=5, rf__criterion=gini, rf__max_depth=1, rf__n_estimators=200, score=0.355, total=   0.5s\n",
      "[CV] pca__n_components=5, rf__criterion=gini, rf__max_depth=1, rf__n_estimators=200 \n"
     ]
    },
    {
     "name": "stderr",
     "output_type": "stream",
     "text": [
      "[Parallel(n_jobs=1)]: Done   6 out of   6 | elapsed:    2.4s remaining:    0.0s\n"
     ]
    },
    {
     "name": "stdout",
     "output_type": "stream",
     "text": [
      "[CV]  pca__n_components=5, rf__criterion=gini, rf__max_depth=1, rf__n_estimators=200, score=0.367, total=   0.5s\n",
      "[CV] pca__n_components=5, rf__criterion=gini, rf__max_depth=1, rf__n_estimators=200 \n"
     ]
    },
    {
     "name": "stderr",
     "output_type": "stream",
     "text": [
      "[Parallel(n_jobs=1)]: Done   7 out of   7 | elapsed:    3.0s remaining:    0.0s\n"
     ]
    },
    {
     "name": "stdout",
     "output_type": "stream",
     "text": [
      "[CV]  pca__n_components=5, rf__criterion=gini, rf__max_depth=1, rf__n_estimators=200, score=0.280, total=   0.5s\n",
      "[CV] pca__n_components=5, rf__criterion=gini, rf__max_depth=1, rf__n_estimators=200 \n"
     ]
    },
    {
     "name": "stderr",
     "output_type": "stream",
     "text": [
      "[Parallel(n_jobs=1)]: Done   8 out of   8 | elapsed:    3.5s remaining:    0.0s\n"
     ]
    },
    {
     "name": "stdout",
     "output_type": "stream",
     "text": [
      "[CV]  pca__n_components=5, rf__criterion=gini, rf__max_depth=1, rf__n_estimators=200, score=0.312, total=   0.5s\n",
      "[CV] pca__n_components=5, rf__criterion=gini, rf__max_depth=1, rf__n_estimators=200 \n"
     ]
    },
    {
     "name": "stderr",
     "output_type": "stream",
     "text": [
      "[Parallel(n_jobs=1)]: Done   9 out of   9 | elapsed:    4.0s remaining:    0.0s\n"
     ]
    },
    {
     "name": "stdout",
     "output_type": "stream",
     "text": [
      "[CV]  pca__n_components=5, rf__criterion=gini, rf__max_depth=1, rf__n_estimators=200, score=0.292, total=   0.5s\n",
      "[CV] pca__n_components=5, rf__criterion=gini, rf__max_depth=1, rf__n_estimators=300 \n",
      "[CV]  pca__n_components=5, rf__criterion=gini, rf__max_depth=1, rf__n_estimators=300, score=0.365, total=   1.0s\n",
      "[CV] pca__n_components=5, rf__criterion=gini, rf__max_depth=1, rf__n_estimators=300 \n",
      "[CV]  pca__n_components=5, rf__criterion=gini, rf__max_depth=1, rf__n_estimators=300, score=0.360, total=   0.8s\n",
      "[CV] pca__n_components=5, rf__criterion=gini, rf__max_depth=1, rf__n_estimators=300 \n",
      "[CV]  pca__n_components=5, rf__criterion=gini, rf__max_depth=1, rf__n_estimators=300, score=0.287, total=   0.8s\n",
      "[CV] pca__n_components=5, rf__criterion=gini, rf__max_depth=1, rf__n_estimators=300 \n",
      "[CV]  pca__n_components=5, rf__criterion=gini, rf__max_depth=1, rf__n_estimators=300, score=0.312, total=   0.8s\n",
      "[CV] pca__n_components=5, rf__criterion=gini, rf__max_depth=1, rf__n_estimators=300 \n",
      "[CV]  pca__n_components=5, rf__criterion=gini, rf__max_depth=1, rf__n_estimators=300, score=0.278, total=   0.8s\n",
      "[CV] pca__n_components=5, rf__criterion=gini, rf__max_depth=1, rf__n_estimators=400 \n",
      "[CV]  pca__n_components=5, rf__criterion=gini, rf__max_depth=1, rf__n_estimators=400, score=0.352, total=   1.0s\n",
      "[CV] pca__n_components=5, rf__criterion=gini, rf__max_depth=1, rf__n_estimators=400 \n",
      "[CV]  pca__n_components=5, rf__criterion=gini, rf__max_depth=1, rf__n_estimators=400, score=0.352, total=   1.0s\n",
      "[CV] pca__n_components=5, rf__criterion=gini, rf__max_depth=1, rf__n_estimators=400 \n",
      "[CV]  pca__n_components=5, rf__criterion=gini, rf__max_depth=1, rf__n_estimators=400, score=0.297, total=   1.0s\n",
      "[CV] pca__n_components=5, rf__criterion=gini, rf__max_depth=1, rf__n_estimators=400 \n",
      "[CV]  pca__n_components=5, rf__criterion=gini, rf__max_depth=1, rf__n_estimators=400, score=0.388, total=   0.9s\n",
      "[CV] pca__n_components=5, rf__criterion=gini, rf__max_depth=1, rf__n_estimators=400 \n",
      "[CV]  pca__n_components=5, rf__criterion=gini, rf__max_depth=1, rf__n_estimators=400, score=0.282, total=   0.9s\n",
      "[CV] pca__n_components=5, rf__criterion=gini, rf__max_depth=3, rf__n_estimators=100 \n",
      "[CV]  pca__n_components=5, rf__criterion=gini, rf__max_depth=3, rf__n_estimators=100, score=0.378, total=   0.4s\n",
      "[CV] pca__n_components=5, rf__criterion=gini, rf__max_depth=3, rf__n_estimators=100 \n",
      "[CV]  pca__n_components=5, rf__criterion=gini, rf__max_depth=3, rf__n_estimators=100, score=0.380, total=   0.4s\n",
      "[CV] pca__n_components=5, rf__criterion=gini, rf__max_depth=3, rf__n_estimators=100 \n",
      "[CV]  pca__n_components=5, rf__criterion=gini, rf__max_depth=3, rf__n_estimators=100, score=0.307, total=   0.4s\n",
      "[CV] pca__n_components=5, rf__criterion=gini, rf__max_depth=3, rf__n_estimators=100 \n",
      "[CV]  pca__n_components=5, rf__criterion=gini, rf__max_depth=3, rf__n_estimators=100, score=0.323, total=   0.4s\n",
      "[CV] pca__n_components=5, rf__criterion=gini, rf__max_depth=3, rf__n_estimators=100 \n",
      "[CV]  pca__n_components=5, rf__criterion=gini, rf__max_depth=3, rf__n_estimators=100, score=0.255, total=   0.4s\n",
      "[CV] pca__n_components=5, rf__criterion=gini, rf__max_depth=3, rf__n_estimators=200 \n",
      "[CV]  pca__n_components=5, rf__criterion=gini, rf__max_depth=3, rf__n_estimators=200, score=0.380, total=   0.5s\n",
      "[CV] pca__n_components=5, rf__criterion=gini, rf__max_depth=3, rf__n_estimators=200 \n",
      "[CV]  pca__n_components=5, rf__criterion=gini, rf__max_depth=3, rf__n_estimators=200, score=0.378, total=   0.5s\n",
      "[CV] pca__n_components=5, rf__criterion=gini, rf__max_depth=3, rf__n_estimators=200 \n",
      "[CV]  pca__n_components=5, rf__criterion=gini, rf__max_depth=3, rf__n_estimators=200, score=0.300, total=   0.5s\n",
      "[CV] pca__n_components=5, rf__criterion=gini, rf__max_depth=3, rf__n_estimators=200 \n",
      "[CV]  pca__n_components=5, rf__criterion=gini, rf__max_depth=3, rf__n_estimators=200, score=0.345, total=   0.5s\n",
      "[CV] pca__n_components=5, rf__criterion=gini, rf__max_depth=3, rf__n_estimators=200 \n",
      "[CV]  pca__n_components=5, rf__criterion=gini, rf__max_depth=3, rf__n_estimators=200, score=0.253, total=   0.5s\n",
      "[CV] pca__n_components=5, rf__criterion=gini, rf__max_depth=3, rf__n_estimators=300 \n",
      "[CV]  pca__n_components=5, rf__criterion=gini, rf__max_depth=3, rf__n_estimators=300, score=0.340, total=   0.9s\n",
      "[CV] pca__n_components=5, rf__criterion=gini, rf__max_depth=3, rf__n_estimators=300 \n",
      "[CV]  pca__n_components=5, rf__criterion=gini, rf__max_depth=3, rf__n_estimators=300, score=0.372, total=   0.8s\n",
      "[CV] pca__n_components=5, rf__criterion=gini, rf__max_depth=3, rf__n_estimators=300 \n",
      "[CV]  pca__n_components=5, rf__criterion=gini, rf__max_depth=3, rf__n_estimators=300, score=0.290, total=   0.9s\n",
      "[CV] pca__n_components=5, rf__criterion=gini, rf__max_depth=3, rf__n_estimators=300 \n",
      "[CV]  pca__n_components=5, rf__criterion=gini, rf__max_depth=3, rf__n_estimators=300, score=0.315, total=   0.9s\n",
      "[CV] pca__n_components=5, rf__criterion=gini, rf__max_depth=3, rf__n_estimators=300 \n",
      "[CV]  pca__n_components=5, rf__criterion=gini, rf__max_depth=3, rf__n_estimators=300, score=0.268, total=   0.9s\n",
      "[CV] pca__n_components=5, rf__criterion=gini, rf__max_depth=3, rf__n_estimators=400 \n",
      "[CV]  pca__n_components=5, rf__criterion=gini, rf__max_depth=3, rf__n_estimators=400, score=0.320, total=   1.0s\n",
      "[CV] pca__n_components=5, rf__criterion=gini, rf__max_depth=3, rf__n_estimators=400 \n",
      "[CV]  pca__n_components=5, rf__criterion=gini, rf__max_depth=3, rf__n_estimators=400, score=0.378, total=   1.0s\n",
      "[CV] pca__n_components=5, rf__criterion=gini, rf__max_depth=3, rf__n_estimators=400 \n",
      "[CV]  pca__n_components=5, rf__criterion=gini, rf__max_depth=3, rf__n_estimators=400, score=0.318, total=   1.0s\n",
      "[CV] pca__n_components=5, rf__criterion=gini, rf__max_depth=3, rf__n_estimators=400 \n",
      "[CV]  pca__n_components=5, rf__criterion=gini, rf__max_depth=3, rf__n_estimators=400, score=0.372, total=   1.0s\n",
      "[CV] pca__n_components=5, rf__criterion=gini, rf__max_depth=3, rf__n_estimators=400 \n",
      "[CV]  pca__n_components=5, rf__criterion=gini, rf__max_depth=3, rf__n_estimators=400, score=0.275, total=   1.0s\n",
      "[CV] pca__n_components=5, rf__criterion=gini, rf__max_depth=5, rf__n_estimators=100 \n",
      "[CV]  pca__n_components=5, rf__criterion=gini, rf__max_depth=5, rf__n_estimators=100, score=0.338, total=   0.4s\n",
      "[CV] pca__n_components=5, rf__criterion=gini, rf__max_depth=5, rf__n_estimators=100 \n",
      "[CV]  pca__n_components=5, rf__criterion=gini, rf__max_depth=5, rf__n_estimators=100, score=0.388, total=   0.4s\n",
      "[CV] pca__n_components=5, rf__criterion=gini, rf__max_depth=5, rf__n_estimators=100 \n",
      "[CV]  pca__n_components=5, rf__criterion=gini, rf__max_depth=5, rf__n_estimators=100, score=0.295, total=   0.4s\n",
      "[CV] pca__n_components=5, rf__criterion=gini, rf__max_depth=5, rf__n_estimators=100 \n",
      "[CV]  pca__n_components=5, rf__criterion=gini, rf__max_depth=5, rf__n_estimators=100, score=0.383, total=   0.4s\n",
      "[CV] pca__n_components=5, rf__criterion=gini, rf__max_depth=5, rf__n_estimators=100 \n",
      "[CV]  pca__n_components=5, rf__criterion=gini, rf__max_depth=5, rf__n_estimators=100, score=0.270, total=   0.4s\n",
      "[CV] pca__n_components=5, rf__criterion=gini, rf__max_depth=5, rf__n_estimators=200 \n",
      "[CV]  pca__n_components=5, rf__criterion=gini, rf__max_depth=5, rf__n_estimators=200, score=0.372, total=   0.6s\n",
      "[CV] pca__n_components=5, rf__criterion=gini, rf__max_depth=5, rf__n_estimators=200 \n",
      "[CV]  pca__n_components=5, rf__criterion=gini, rf__max_depth=5, rf__n_estimators=200, score=0.388, total=   0.6s\n",
      "[CV] pca__n_components=5, rf__criterion=gini, rf__max_depth=5, rf__n_estimators=200 \n",
      "[CV]  pca__n_components=5, rf__criterion=gini, rf__max_depth=5, rf__n_estimators=200, score=0.380, total=   0.6s\n",
      "[CV] pca__n_components=5, rf__criterion=gini, rf__max_depth=5, rf__n_estimators=200 \n",
      "[CV]  pca__n_components=5, rf__criterion=gini, rf__max_depth=5, rf__n_estimators=200, score=0.362, total=   0.6s\n",
      "[CV] pca__n_components=5, rf__criterion=gini, rf__max_depth=5, rf__n_estimators=200 \n",
      "[CV]  pca__n_components=5, rf__criterion=gini, rf__max_depth=5, rf__n_estimators=200, score=0.258, total=   0.6s\n",
      "[CV] pca__n_components=5, rf__criterion=gini, rf__max_depth=5, rf__n_estimators=300 \n",
      "[CV]  pca__n_components=5, rf__criterion=gini, rf__max_depth=5, rf__n_estimators=300, score=0.375, total=   0.9s\n",
      "[CV] pca__n_components=5, rf__criterion=gini, rf__max_depth=5, rf__n_estimators=300 \n",
      "[CV]  pca__n_components=5, rf__criterion=gini, rf__max_depth=5, rf__n_estimators=300, score=0.340, total=   0.9s\n",
      "[CV] pca__n_components=5, rf__criterion=gini, rf__max_depth=5, rf__n_estimators=300 \n",
      "[CV]  pca__n_components=5, rf__criterion=gini, rf__max_depth=5, rf__n_estimators=300, score=0.338, total=   0.9s\n",
      "[CV] pca__n_components=5, rf__criterion=gini, rf__max_depth=5, rf__n_estimators=300 \n",
      "[CV]  pca__n_components=5, rf__criterion=gini, rf__max_depth=5, rf__n_estimators=300, score=0.320, total=   0.9s\n",
      "[CV] pca__n_components=5, rf__criterion=gini, rf__max_depth=5, rf__n_estimators=300 \n",
      "[CV]  pca__n_components=5, rf__criterion=gini, rf__max_depth=5, rf__n_estimators=300, score=0.253, total=   0.9s\n",
      "[CV] pca__n_components=5, rf__criterion=gini, rf__max_depth=5, rf__n_estimators=400 \n",
      "[CV]  pca__n_components=5, rf__criterion=gini, rf__max_depth=5, rf__n_estimators=400, score=0.340, total=   1.1s\n",
      "[CV] pca__n_components=5, rf__criterion=gini, rf__max_depth=5, rf__n_estimators=400 \n",
      "[CV]  pca__n_components=5, rf__criterion=gini, rf__max_depth=5, rf__n_estimators=400, score=0.355, total=   1.1s\n",
      "[CV] pca__n_components=5, rf__criterion=gini, rf__max_depth=5, rf__n_estimators=400 \n",
      "[CV]  pca__n_components=5, rf__criterion=gini, rf__max_depth=5, rf__n_estimators=400, score=0.280, total=   1.1s\n",
      "[CV] pca__n_components=5, rf__criterion=gini, rf__max_depth=5, rf__n_estimators=400 \n",
      "[CV]  pca__n_components=5, rf__criterion=gini, rf__max_depth=5, rf__n_estimators=400, score=0.318, total=   1.1s\n",
      "[CV] pca__n_components=5, rf__criterion=gini, rf__max_depth=5, rf__n_estimators=400 \n",
      "[CV]  pca__n_components=5, rf__criterion=gini, rf__max_depth=5, rf__n_estimators=400, score=0.302, total=   1.1s\n",
      "[CV] pca__n_components=5, rf__criterion=gini, rf__max_depth=7, rf__n_estimators=100 \n",
      "[CV]  pca__n_components=5, rf__criterion=gini, rf__max_depth=7, rf__n_estimators=100, score=0.357, total=   0.4s\n",
      "[CV] pca__n_components=5, rf__criterion=gini, rf__max_depth=7, rf__n_estimators=100 \n",
      "[CV]  pca__n_components=5, rf__criterion=gini, rf__max_depth=7, rf__n_estimators=100, score=0.365, total=   0.4s\n",
      "[CV] pca__n_components=5, rf__criterion=gini, rf__max_depth=7, rf__n_estimators=100 \n",
      "[CV]  pca__n_components=5, rf__criterion=gini, rf__max_depth=7, rf__n_estimators=100, score=0.297, total=   0.4s\n",
      "[CV] pca__n_components=5, rf__criterion=gini, rf__max_depth=7, rf__n_estimators=100 \n",
      "[CV]  pca__n_components=5, rf__criterion=gini, rf__max_depth=7, rf__n_estimators=100, score=0.330, total=   0.4s\n",
      "[CV] pca__n_components=5, rf__criterion=gini, rf__max_depth=7, rf__n_estimators=100 \n",
      "[CV]  pca__n_components=5, rf__criterion=gini, rf__max_depth=7, rf__n_estimators=100, score=0.253, total=   0.4s\n",
      "[CV] pca__n_components=5, rf__criterion=gini, rf__max_depth=7, rf__n_estimators=200 \n",
      "[CV]  pca__n_components=5, rf__criterion=gini, rf__max_depth=7, rf__n_estimators=200, score=0.345, total=   0.6s\n",
      "[CV] pca__n_components=5, rf__criterion=gini, rf__max_depth=7, rf__n_estimators=200 \n",
      "[CV]  pca__n_components=5, rf__criterion=gini, rf__max_depth=7, rf__n_estimators=200, score=0.367, total=   0.6s\n",
      "[CV] pca__n_components=5, rf__criterion=gini, rf__max_depth=7, rf__n_estimators=200 \n",
      "[CV]  pca__n_components=5, rf__criterion=gini, rf__max_depth=7, rf__n_estimators=200, score=0.287, total=   0.6s\n",
      "[CV] pca__n_components=5, rf__criterion=gini, rf__max_depth=7, rf__n_estimators=200 \n",
      "[CV]  pca__n_components=5, rf__criterion=gini, rf__max_depth=7, rf__n_estimators=200, score=0.403, total=   0.6s\n",
      "[CV] pca__n_components=5, rf__criterion=gini, rf__max_depth=7, rf__n_estimators=200 \n",
      "[CV]  pca__n_components=5, rf__criterion=gini, rf__max_depth=7, rf__n_estimators=200, score=0.235, total=   0.6s\n",
      "[CV] pca__n_components=5, rf__criterion=gini, rf__max_depth=7, rf__n_estimators=300 \n",
      "[CV]  pca__n_components=5, rf__criterion=gini, rf__max_depth=7, rf__n_estimators=300, score=0.340, total=   1.0s\n",
      "[CV] pca__n_components=5, rf__criterion=gini, rf__max_depth=7, rf__n_estimators=300 \n",
      "[CV]  pca__n_components=5, rf__criterion=gini, rf__max_depth=7, rf__n_estimators=300, score=0.378, total=   1.0s\n",
      "[CV] pca__n_components=5, rf__criterion=gini, rf__max_depth=7, rf__n_estimators=300 \n",
      "[CV]  pca__n_components=5, rf__criterion=gini, rf__max_depth=7, rf__n_estimators=300, score=0.290, total=   1.0s\n",
      "[CV] pca__n_components=5, rf__criterion=gini, rf__max_depth=7, rf__n_estimators=300 \n",
      "[CV]  pca__n_components=5, rf__criterion=gini, rf__max_depth=7, rf__n_estimators=300, score=0.325, total=   1.0s\n",
      "[CV] pca__n_components=5, rf__criterion=gini, rf__max_depth=7, rf__n_estimators=300 \n",
      "[CV]  pca__n_components=5, rf__criterion=gini, rf__max_depth=7, rf__n_estimators=300, score=0.235, total=   1.0s\n",
      "[CV] pca__n_components=5, rf__criterion=gini, rf__max_depth=7, rf__n_estimators=400 \n",
      "[CV]  pca__n_components=5, rf__criterion=gini, rf__max_depth=7, rf__n_estimators=400, score=0.347, total=   1.2s\n",
      "[CV] pca__n_components=5, rf__criterion=gini, rf__max_depth=7, rf__n_estimators=400 \n",
      "[CV]  pca__n_components=5, rf__criterion=gini, rf__max_depth=7, rf__n_estimators=400, score=0.362, total=   1.1s\n",
      "[CV] pca__n_components=5, rf__criterion=gini, rf__max_depth=7, rf__n_estimators=400 \n",
      "[CV]  pca__n_components=5, rf__criterion=gini, rf__max_depth=7, rf__n_estimators=400, score=0.295, total=   1.2s\n",
      "[CV] pca__n_components=5, rf__criterion=gini, rf__max_depth=7, rf__n_estimators=400 \n",
      "[CV]  pca__n_components=5, rf__criterion=gini, rf__max_depth=7, rf__n_estimators=400, score=0.388, total=   1.1s\n",
      "[CV] pca__n_components=5, rf__criterion=gini, rf__max_depth=7, rf__n_estimators=400 \n",
      "[CV]  pca__n_components=5, rf__criterion=gini, rf__max_depth=7, rf__n_estimators=400, score=0.253, total=   1.1s\n",
      "[CV] pca__n_components=5, rf__criterion=entropy, rf__max_depth=1, rf__n_estimators=100 \n",
      "[CV]  pca__n_components=5, rf__criterion=entropy, rf__max_depth=1, rf__n_estimators=100, score=0.355, total=   0.4s\n",
      "[CV] pca__n_components=5, rf__criterion=entropy, rf__max_depth=1, rf__n_estimators=100 \n",
      "[CV]  pca__n_components=5, rf__criterion=entropy, rf__max_depth=1, rf__n_estimators=100, score=0.355, total=   0.4s\n",
      "[CV] pca__n_components=5, rf__criterion=entropy, rf__max_depth=1, rf__n_estimators=100 \n",
      "[CV]  pca__n_components=5, rf__criterion=entropy, rf__max_depth=1, rf__n_estimators=100, score=0.290, total=   0.4s\n",
      "[CV] pca__n_components=5, rf__criterion=entropy, rf__max_depth=1, rf__n_estimators=100 \n",
      "[CV]  pca__n_components=5, rf__criterion=entropy, rf__max_depth=1, rf__n_estimators=100, score=0.343, total=   0.4s\n",
      "[CV] pca__n_components=5, rf__criterion=entropy, rf__max_depth=1, rf__n_estimators=100 \n",
      "[CV]  pca__n_components=5, rf__criterion=entropy, rf__max_depth=1, rf__n_estimators=100, score=0.282, total=   0.4s\n",
      "[CV] pca__n_components=5, rf__criterion=entropy, rf__max_depth=1, rf__n_estimators=200 \n",
      "[CV]  pca__n_components=5, rf__criterion=entropy, rf__max_depth=1, rf__n_estimators=200, score=0.347, total=   0.6s\n",
      "[CV] pca__n_components=5, rf__criterion=entropy, rf__max_depth=1, rf__n_estimators=200 \n",
      "[CV]  pca__n_components=5, rf__criterion=entropy, rf__max_depth=1, rf__n_estimators=200, score=0.367, total=   0.6s\n",
      "[CV] pca__n_components=5, rf__criterion=entropy, rf__max_depth=1, rf__n_estimators=200 \n",
      "[CV]  pca__n_components=5, rf__criterion=entropy, rf__max_depth=1, rf__n_estimators=200, score=0.292, total=   0.6s\n",
      "[CV] pca__n_components=5, rf__criterion=entropy, rf__max_depth=1, rf__n_estimators=200 \n",
      "[CV]  pca__n_components=5, rf__criterion=entropy, rf__max_depth=1, rf__n_estimators=200, score=0.360, total=   0.5s\n",
      "[CV] pca__n_components=5, rf__criterion=entropy, rf__max_depth=1, rf__n_estimators=200 \n",
      "[CV]  pca__n_components=5, rf__criterion=entropy, rf__max_depth=1, rf__n_estimators=200, score=0.287, total=   0.5s\n",
      "[CV] pca__n_components=5, rf__criterion=entropy, rf__max_depth=1, rf__n_estimators=300 \n",
      "[CV]  pca__n_components=5, rf__criterion=entropy, rf__max_depth=1, rf__n_estimators=300, score=0.345, total=   0.9s\n",
      "[CV] pca__n_components=5, rf__criterion=entropy, rf__max_depth=1, rf__n_estimators=300 \n",
      "[CV]  pca__n_components=5, rf__criterion=entropy, rf__max_depth=1, rf__n_estimators=300, score=0.330, total=   0.9s\n",
      "[CV] pca__n_components=5, rf__criterion=entropy, rf__max_depth=1, rf__n_estimators=300 \n",
      "[CV]  pca__n_components=5, rf__criterion=entropy, rf__max_depth=1, rf__n_estimators=300, score=0.282, total=   0.9s\n",
      "[CV] pca__n_components=5, rf__criterion=entropy, rf__max_depth=1, rf__n_estimators=300 \n",
      "[CV]  pca__n_components=5, rf__criterion=entropy, rf__max_depth=1, rf__n_estimators=300, score=0.318, total=   1.0s\n",
      "[CV] pca__n_components=5, rf__criterion=entropy, rf__max_depth=1, rf__n_estimators=300 \n",
      "[CV]  pca__n_components=5, rf__criterion=entropy, rf__max_depth=1, rf__n_estimators=300, score=0.287, total=   0.9s\n",
      "[CV] pca__n_components=5, rf__criterion=entropy, rf__max_depth=1, rf__n_estimators=400 \n",
      "[CV]  pca__n_components=5, rf__criterion=entropy, rf__max_depth=1, rf__n_estimators=400, score=0.355, total=   1.0s\n",
      "[CV] pca__n_components=5, rf__criterion=entropy, rf__max_depth=1, rf__n_estimators=400 \n",
      "[CV]  pca__n_components=5, rf__criterion=entropy, rf__max_depth=1, rf__n_estimators=400, score=0.380, total=   1.0s\n",
      "[CV] pca__n_components=5, rf__criterion=entropy, rf__max_depth=1, rf__n_estimators=400 \n",
      "[CV]  pca__n_components=5, rf__criterion=entropy, rf__max_depth=1, rf__n_estimators=400, score=0.282, total=   1.0s\n",
      "[CV] pca__n_components=5, rf__criterion=entropy, rf__max_depth=1, rf__n_estimators=400 \n",
      "[CV]  pca__n_components=5, rf__criterion=entropy, rf__max_depth=1, rf__n_estimators=400, score=0.330, total=   1.0s\n",
      "[CV] pca__n_components=5, rf__criterion=entropy, rf__max_depth=1, rf__n_estimators=400 \n",
      "[CV]  pca__n_components=5, rf__criterion=entropy, rf__max_depth=1, rf__n_estimators=400, score=0.282, total=   1.0s\n",
      "[CV] pca__n_components=5, rf__criterion=entropy, rf__max_depth=3, rf__n_estimators=100 \n",
      "[CV]  pca__n_components=5, rf__criterion=entropy, rf__max_depth=3, rf__n_estimators=100, score=0.352, total=   0.4s\n",
      "[CV] pca__n_components=5, rf__criterion=entropy, rf__max_depth=3, rf__n_estimators=100 \n",
      "[CV]  pca__n_components=5, rf__criterion=entropy, rf__max_depth=3, rf__n_estimators=100, score=0.372, total=   0.4s\n",
      "[CV] pca__n_components=5, rf__criterion=entropy, rf__max_depth=3, rf__n_estimators=100 \n",
      "[CV]  pca__n_components=5, rf__criterion=entropy, rf__max_depth=3, rf__n_estimators=100, score=0.297, total=   0.4s\n",
      "[CV] pca__n_components=5, rf__criterion=entropy, rf__max_depth=3, rf__n_estimators=100 \n",
      "[CV]  pca__n_components=5, rf__criterion=entropy, rf__max_depth=3, rf__n_estimators=100, score=0.338, total=   0.4s\n",
      "[CV] pca__n_components=5, rf__criterion=entropy, rf__max_depth=3, rf__n_estimators=100 \n",
      "[CV]  pca__n_components=5, rf__criterion=entropy, rf__max_depth=3, rf__n_estimators=100, score=0.250, total=   0.4s\n",
      "[CV] pca__n_components=5, rf__criterion=entropy, rf__max_depth=3, rf__n_estimators=200 \n",
      "[CV]  pca__n_components=5, rf__criterion=entropy, rf__max_depth=3, rf__n_estimators=200, score=0.345, total=   0.6s\n",
      "[CV] pca__n_components=5, rf__criterion=entropy, rf__max_depth=3, rf__n_estimators=200 \n",
      "[CV]  pca__n_components=5, rf__criterion=entropy, rf__max_depth=3, rf__n_estimators=200, score=0.385, total=   0.6s\n",
      "[CV] pca__n_components=5, rf__criterion=entropy, rf__max_depth=3, rf__n_estimators=200 \n",
      "[CV]  pca__n_components=5, rf__criterion=entropy, rf__max_depth=3, rf__n_estimators=200, score=0.333, total=   0.6s\n",
      "[CV] pca__n_components=5, rf__criterion=entropy, rf__max_depth=3, rf__n_estimators=200 \n",
      "[CV]  pca__n_components=5, rf__criterion=entropy, rf__max_depth=3, rf__n_estimators=200, score=0.338, total=   0.6s\n",
      "[CV] pca__n_components=5, rf__criterion=entropy, rf__max_depth=3, rf__n_estimators=200 \n",
      "[CV]  pca__n_components=5, rf__criterion=entropy, rf__max_depth=3, rf__n_estimators=200, score=0.250, total=   0.6s\n",
      "[CV] pca__n_components=5, rf__criterion=entropy, rf__max_depth=3, rf__n_estimators=300 \n",
      "[CV]  pca__n_components=5, rf__criterion=entropy, rf__max_depth=3, rf__n_estimators=300, score=0.378, total=   1.0s\n",
      "[CV] pca__n_components=5, rf__criterion=entropy, rf__max_depth=3, rf__n_estimators=300 \n",
      "[CV]  pca__n_components=5, rf__criterion=entropy, rf__max_depth=3, rf__n_estimators=300, score=0.360, total=   1.0s\n",
      "[CV] pca__n_components=5, rf__criterion=entropy, rf__max_depth=3, rf__n_estimators=300 \n",
      "[CV]  pca__n_components=5, rf__criterion=entropy, rf__max_depth=3, rf__n_estimators=300, score=0.340, total=   1.0s\n",
      "[CV] pca__n_components=5, rf__criterion=entropy, rf__max_depth=3, rf__n_estimators=300 \n",
      "[CV]  pca__n_components=5, rf__criterion=entropy, rf__max_depth=3, rf__n_estimators=300, score=0.345, total=   1.0s\n",
      "[CV] pca__n_components=5, rf__criterion=entropy, rf__max_depth=3, rf__n_estimators=300 \n",
      "[CV]  pca__n_components=5, rf__criterion=entropy, rf__max_depth=3, rf__n_estimators=300, score=0.280, total=   1.0s\n",
      "[CV] pca__n_components=5, rf__criterion=entropy, rf__max_depth=3, rf__n_estimators=400 \n",
      "[CV]  pca__n_components=5, rf__criterion=entropy, rf__max_depth=3, rf__n_estimators=400, score=0.350, total=   1.3s\n",
      "[CV] pca__n_components=5, rf__criterion=entropy, rf__max_depth=3, rf__n_estimators=400 \n",
      "[CV]  pca__n_components=5, rf__criterion=entropy, rf__max_depth=3, rf__n_estimators=400, score=0.355, total=   1.2s\n",
      "[CV] pca__n_components=5, rf__criterion=entropy, rf__max_depth=3, rf__n_estimators=400 \n",
      "[CV]  pca__n_components=5, rf__criterion=entropy, rf__max_depth=3, rf__n_estimators=400, score=0.328, total=   1.2s\n",
      "[CV] pca__n_components=5, rf__criterion=entropy, rf__max_depth=3, rf__n_estimators=400 \n",
      "[CV]  pca__n_components=5, rf__criterion=entropy, rf__max_depth=3, rf__n_estimators=400, score=0.383, total=   1.2s\n",
      "[CV] pca__n_components=5, rf__criterion=entropy, rf__max_depth=3, rf__n_estimators=400 \n",
      "[CV]  pca__n_components=5, rf__criterion=entropy, rf__max_depth=3, rf__n_estimators=400, score=0.255, total=   1.2s\n",
      "[CV] pca__n_components=5, rf__criterion=entropy, rf__max_depth=5, rf__n_estimators=100 \n",
      "[CV]  pca__n_components=5, rf__criterion=entropy, rf__max_depth=5, rf__n_estimators=100, score=0.372, total=   0.5s\n",
      "[CV] pca__n_components=5, rf__criterion=entropy, rf__max_depth=5, rf__n_estimators=100 \n",
      "[CV]  pca__n_components=5, rf__criterion=entropy, rf__max_depth=5, rf__n_estimators=100, score=0.388, total=   0.5s\n",
      "[CV] pca__n_components=5, rf__criterion=entropy, rf__max_depth=5, rf__n_estimators=100 \n",
      "[CV]  pca__n_components=5, rf__criterion=entropy, rf__max_depth=5, rf__n_estimators=100, score=0.310, total=   0.5s\n",
      "[CV] pca__n_components=5, rf__criterion=entropy, rf__max_depth=5, rf__n_estimators=100 \n",
      "[CV]  pca__n_components=5, rf__criterion=entropy, rf__max_depth=5, rf__n_estimators=100, score=0.333, total=   0.5s\n",
      "[CV] pca__n_components=5, rf__criterion=entropy, rf__max_depth=5, rf__n_estimators=100 \n",
      "[CV]  pca__n_components=5, rf__criterion=entropy, rf__max_depth=5, rf__n_estimators=100, score=0.253, total=   0.5s\n",
      "[CV] pca__n_components=5, rf__criterion=entropy, rf__max_depth=5, rf__n_estimators=200 \n",
      "[CV]  pca__n_components=5, rf__criterion=entropy, rf__max_depth=5, rf__n_estimators=200, score=0.385, total=   0.7s\n",
      "[CV] pca__n_components=5, rf__criterion=entropy, rf__max_depth=5, rf__n_estimators=200 \n",
      "[CV]  pca__n_components=5, rf__criterion=entropy, rf__max_depth=5, rf__n_estimators=200, score=0.383, total=   0.7s\n",
      "[CV] pca__n_components=5, rf__criterion=entropy, rf__max_depth=5, rf__n_estimators=200 \n",
      "[CV]  pca__n_components=5, rf__criterion=entropy, rf__max_depth=5, rf__n_estimators=200, score=0.315, total=   0.7s\n",
      "[CV] pca__n_components=5, rf__criterion=entropy, rf__max_depth=5, rf__n_estimators=200 \n",
      "[CV]  pca__n_components=5, rf__criterion=entropy, rf__max_depth=5, rf__n_estimators=200, score=0.325, total=   0.7s\n",
      "[CV] pca__n_components=5, rf__criterion=entropy, rf__max_depth=5, rf__n_estimators=200 \n",
      "[CV]  pca__n_components=5, rf__criterion=entropy, rf__max_depth=5, rf__n_estimators=200, score=0.260, total=   0.7s\n",
      "[CV] pca__n_components=5, rf__criterion=entropy, rf__max_depth=5, rf__n_estimators=300 \n",
      "[CV]  pca__n_components=5, rf__criterion=entropy, rf__max_depth=5, rf__n_estimators=300, score=0.365, total=   1.1s\n",
      "[CV] pca__n_components=5, rf__criterion=entropy, rf__max_depth=5, rf__n_estimators=300 \n",
      "[CV]  pca__n_components=5, rf__criterion=entropy, rf__max_depth=5, rf__n_estimators=300, score=0.395, total=   1.2s\n",
      "[CV] pca__n_components=5, rf__criterion=entropy, rf__max_depth=5, rf__n_estimators=300 \n",
      "[CV]  pca__n_components=5, rf__criterion=entropy, rf__max_depth=5, rf__n_estimators=300, score=0.300, total=   1.2s\n",
      "[CV] pca__n_components=5, rf__criterion=entropy, rf__max_depth=5, rf__n_estimators=300 \n",
      "[CV]  pca__n_components=5, rf__criterion=entropy, rf__max_depth=5, rf__n_estimators=300, score=0.340, total=   1.1s\n",
      "[CV] pca__n_components=5, rf__criterion=entropy, rf__max_depth=5, rf__n_estimators=300 \n",
      "[CV]  pca__n_components=5, rf__criterion=entropy, rf__max_depth=5, rf__n_estimators=300, score=0.278, total=   1.1s\n",
      "[CV] pca__n_components=5, rf__criterion=entropy, rf__max_depth=5, rf__n_estimators=400 \n",
      "[CV]  pca__n_components=5, rf__criterion=entropy, rf__max_depth=5, rf__n_estimators=400, score=0.335, total=   1.4s\n",
      "[CV] pca__n_components=5, rf__criterion=entropy, rf__max_depth=5, rf__n_estimators=400 \n",
      "[CV]  pca__n_components=5, rf__criterion=entropy, rf__max_depth=5, rf__n_estimators=400, score=0.390, total=   1.4s\n",
      "[CV] pca__n_components=5, rf__criterion=entropy, rf__max_depth=5, rf__n_estimators=400 \n",
      "[CV]  pca__n_components=5, rf__criterion=entropy, rf__max_depth=5, rf__n_estimators=400, score=0.300, total=   1.4s\n",
      "[CV] pca__n_components=5, rf__criterion=entropy, rf__max_depth=5, rf__n_estimators=400 \n",
      "[CV]  pca__n_components=5, rf__criterion=entropy, rf__max_depth=5, rf__n_estimators=400, score=0.318, total=   1.4s\n",
      "[CV] pca__n_components=5, rf__criterion=entropy, rf__max_depth=5, rf__n_estimators=400 \n",
      "[CV]  pca__n_components=5, rf__criterion=entropy, rf__max_depth=5, rf__n_estimators=400, score=0.247, total=   1.4s\n",
      "[CV] pca__n_components=5, rf__criterion=entropy, rf__max_depth=7, rf__n_estimators=100 \n",
      "[CV]  pca__n_components=5, rf__criterion=entropy, rf__max_depth=7, rf__n_estimators=100, score=0.338, total=   0.5s\n",
      "[CV] pca__n_components=5, rf__criterion=entropy, rf__max_depth=7, rf__n_estimators=100 \n",
      "[CV]  pca__n_components=5, rf__criterion=entropy, rf__max_depth=7, rf__n_estimators=100, score=0.383, total=   0.5s\n",
      "[CV] pca__n_components=5, rf__criterion=entropy, rf__max_depth=7, rf__n_estimators=100 \n",
      "[CV]  pca__n_components=5, rf__criterion=entropy, rf__max_depth=7, rf__n_estimators=100, score=0.307, total=   0.5s\n",
      "[CV] pca__n_components=5, rf__criterion=entropy, rf__max_depth=7, rf__n_estimators=100 \n",
      "[CV]  pca__n_components=5, rf__criterion=entropy, rf__max_depth=7, rf__n_estimators=100, score=0.330, total=   0.5s\n",
      "[CV] pca__n_components=5, rf__criterion=entropy, rf__max_depth=7, rf__n_estimators=100 \n",
      "[CV]  pca__n_components=5, rf__criterion=entropy, rf__max_depth=7, rf__n_estimators=100, score=0.338, total=   0.5s\n",
      "[CV] pca__n_components=5, rf__criterion=entropy, rf__max_depth=7, rf__n_estimators=200 \n",
      "[CV]  pca__n_components=5, rf__criterion=entropy, rf__max_depth=7, rf__n_estimators=200, score=0.350, total=   0.8s\n",
      "[CV] pca__n_components=5, rf__criterion=entropy, rf__max_depth=7, rf__n_estimators=200 \n",
      "[CV]  pca__n_components=5, rf__criterion=entropy, rf__max_depth=7, rf__n_estimators=200, score=0.383, total=   0.8s\n",
      "[CV] pca__n_components=5, rf__criterion=entropy, rf__max_depth=7, rf__n_estimators=200 \n",
      "[CV]  pca__n_components=5, rf__criterion=entropy, rf__max_depth=7, rf__n_estimators=200, score=0.312, total=   0.8s\n",
      "[CV] pca__n_components=5, rf__criterion=entropy, rf__max_depth=7, rf__n_estimators=200 \n",
      "[CV]  pca__n_components=5, rf__criterion=entropy, rf__max_depth=7, rf__n_estimators=200, score=0.297, total=   0.8s\n",
      "[CV] pca__n_components=5, rf__criterion=entropy, rf__max_depth=7, rf__n_estimators=200 \n",
      "[CV]  pca__n_components=5, rf__criterion=entropy, rf__max_depth=7, rf__n_estimators=200, score=0.268, total=   0.9s\n",
      "[CV] pca__n_components=5, rf__criterion=entropy, rf__max_depth=7, rf__n_estimators=300 \n",
      "[CV]  pca__n_components=5, rf__criterion=entropy, rf__max_depth=7, rf__n_estimators=300, score=0.338, total=   1.3s\n",
      "[CV] pca__n_components=5, rf__criterion=entropy, rf__max_depth=7, rf__n_estimators=300 \n",
      "[CV]  pca__n_components=5, rf__criterion=entropy, rf__max_depth=7, rf__n_estimators=300, score=0.370, total=   1.3s\n",
      "[CV] pca__n_components=5, rf__criterion=entropy, rf__max_depth=7, rf__n_estimators=300 \n",
      "[CV]  pca__n_components=5, rf__criterion=entropy, rf__max_depth=7, rf__n_estimators=300, score=0.292, total=   1.3s\n",
      "[CV] pca__n_components=5, rf__criterion=entropy, rf__max_depth=7, rf__n_estimators=300 \n",
      "[CV]  pca__n_components=5, rf__criterion=entropy, rf__max_depth=7, rf__n_estimators=300, score=0.338, total=   1.3s\n",
      "[CV] pca__n_components=5, rf__criterion=entropy, rf__max_depth=7, rf__n_estimators=300 \n",
      "[CV]  pca__n_components=5, rf__criterion=entropy, rf__max_depth=7, rf__n_estimators=300, score=0.255, total=   1.6s\n",
      "[CV] pca__n_components=5, rf__criterion=entropy, rf__max_depth=7, rf__n_estimators=400 \n",
      "[CV]  pca__n_components=5, rf__criterion=entropy, rf__max_depth=7, rf__n_estimators=400, score=0.338, total=   1.6s\n",
      "[CV] pca__n_components=5, rf__criterion=entropy, rf__max_depth=7, rf__n_estimators=400 \n",
      "[CV]  pca__n_components=5, rf__criterion=entropy, rf__max_depth=7, rf__n_estimators=400, score=0.390, total=   1.6s\n",
      "[CV] pca__n_components=5, rf__criterion=entropy, rf__max_depth=7, rf__n_estimators=400 \n",
      "[CV]  pca__n_components=5, rf__criterion=entropy, rf__max_depth=7, rf__n_estimators=400, score=0.297, total=   1.9s\n",
      "[CV] pca__n_components=5, rf__criterion=entropy, rf__max_depth=7, rf__n_estimators=400 \n",
      "[CV]  pca__n_components=5, rf__criterion=entropy, rf__max_depth=7, rf__n_estimators=400, score=0.325, total=   1.6s\n",
      "[CV] pca__n_components=5, rf__criterion=entropy, rf__max_depth=7, rf__n_estimators=400 \n",
      "[CV]  pca__n_components=5, rf__criterion=entropy, rf__max_depth=7, rf__n_estimators=400, score=0.237, total=   1.6s\n",
      "[CV] pca__n_components=10, rf__criterion=gini, rf__max_depth=1, rf__n_estimators=100 \n",
      "[CV]  pca__n_components=10, rf__criterion=gini, rf__max_depth=1, rf__n_estimators=100, score=0.492, total=   0.4s\n",
      "[CV] pca__n_components=10, rf__criterion=gini, rf__max_depth=1, rf__n_estimators=100 \n",
      "[CV]  pca__n_components=10, rf__criterion=gini, rf__max_depth=1, rf__n_estimators=100, score=0.410, total=   0.4s\n",
      "[CV] pca__n_components=10, rf__criterion=gini, rf__max_depth=1, rf__n_estimators=100 \n",
      "[CV]  pca__n_components=10, rf__criterion=gini, rf__max_depth=1, rf__n_estimators=100, score=0.415, total=   0.4s\n",
      "[CV] pca__n_components=10, rf__criterion=gini, rf__max_depth=1, rf__n_estimators=100 \n",
      "[CV]  pca__n_components=10, rf__criterion=gini, rf__max_depth=1, rf__n_estimators=100, score=0.458, total=   0.4s\n",
      "[CV] pca__n_components=10, rf__criterion=gini, rf__max_depth=1, rf__n_estimators=100 \n",
      "[CV]  pca__n_components=10, rf__criterion=gini, rf__max_depth=1, rf__n_estimators=100, score=0.422, total=   0.4s\n",
      "[CV] pca__n_components=10, rf__criterion=gini, rf__max_depth=1, rf__n_estimators=200 \n",
      "[CV]  pca__n_components=10, rf__criterion=gini, rf__max_depth=1, rf__n_estimators=200, score=0.470, total=   0.5s\n",
      "[CV] pca__n_components=10, rf__criterion=gini, rf__max_depth=1, rf__n_estimators=200 \n",
      "[CV]  pca__n_components=10, rf__criterion=gini, rf__max_depth=1, rf__n_estimators=200, score=0.407, total=   0.5s\n",
      "[CV] pca__n_components=10, rf__criterion=gini, rf__max_depth=1, rf__n_estimators=200 \n",
      "[CV]  pca__n_components=10, rf__criterion=gini, rf__max_depth=1, rf__n_estimators=200, score=0.448, total=   0.5s\n",
      "[CV] pca__n_components=10, rf__criterion=gini, rf__max_depth=1, rf__n_estimators=200 \n",
      "[CV]  pca__n_components=10, rf__criterion=gini, rf__max_depth=1, rf__n_estimators=200, score=0.460, total=   0.5s\n",
      "[CV] pca__n_components=10, rf__criterion=gini, rf__max_depth=1, rf__n_estimators=200 \n",
      "[CV]  pca__n_components=10, rf__criterion=gini, rf__max_depth=1, rf__n_estimators=200, score=0.430, total=   0.5s\n",
      "[CV] pca__n_components=10, rf__criterion=gini, rf__max_depth=1, rf__n_estimators=300 \n",
      "[CV]  pca__n_components=10, rf__criterion=gini, rf__max_depth=1, rf__n_estimators=300, score=0.472, total=   0.8s\n",
      "[CV] pca__n_components=10, rf__criterion=gini, rf__max_depth=1, rf__n_estimators=300 \n",
      "[CV]  pca__n_components=10, rf__criterion=gini, rf__max_depth=1, rf__n_estimators=300, score=0.403, total=   0.8s\n",
      "[CV] pca__n_components=10, rf__criterion=gini, rf__max_depth=1, rf__n_estimators=300 \n",
      "[CV]  pca__n_components=10, rf__criterion=gini, rf__max_depth=1, rf__n_estimators=300, score=0.440, total=   0.9s\n",
      "[CV] pca__n_components=10, rf__criterion=gini, rf__max_depth=1, rf__n_estimators=300 \n",
      "[CV]  pca__n_components=10, rf__criterion=gini, rf__max_depth=1, rf__n_estimators=300, score=0.458, total=   0.8s\n",
      "[CV] pca__n_components=10, rf__criterion=gini, rf__max_depth=1, rf__n_estimators=300 \n",
      "[CV]  pca__n_components=10, rf__criterion=gini, rf__max_depth=1, rf__n_estimators=300, score=0.422, total=   0.8s\n",
      "[CV] pca__n_components=10, rf__criterion=gini, rf__max_depth=1, rf__n_estimators=400 \n",
      "[CV]  pca__n_components=10, rf__criterion=gini, rf__max_depth=1, rf__n_estimators=400, score=0.477, total=   1.0s\n",
      "[CV] pca__n_components=10, rf__criterion=gini, rf__max_depth=1, rf__n_estimators=400 \n",
      "[CV]  pca__n_components=10, rf__criterion=gini, rf__max_depth=1, rf__n_estimators=400, score=0.405, total=   1.0s\n",
      "[CV] pca__n_components=10, rf__criterion=gini, rf__max_depth=1, rf__n_estimators=400 \n",
      "[CV]  pca__n_components=10, rf__criterion=gini, rf__max_depth=1, rf__n_estimators=400, score=0.450, total=   1.0s\n",
      "[CV] pca__n_components=10, rf__criterion=gini, rf__max_depth=1, rf__n_estimators=400 \n",
      "[CV]  pca__n_components=10, rf__criterion=gini, rf__max_depth=1, rf__n_estimators=400, score=0.445, total=   1.0s\n",
      "[CV] pca__n_components=10, rf__criterion=gini, rf__max_depth=1, rf__n_estimators=400 \n",
      "[CV]  pca__n_components=10, rf__criterion=gini, rf__max_depth=1, rf__n_estimators=400, score=0.420, total=   1.0s\n",
      "[CV] pca__n_components=10, rf__criterion=gini, rf__max_depth=3, rf__n_estimators=100 \n",
      "[CV]  pca__n_components=10, rf__criterion=gini, rf__max_depth=3, rf__n_estimators=100, score=0.545, total=   0.4s\n",
      "[CV] pca__n_components=10, rf__criterion=gini, rf__max_depth=3, rf__n_estimators=100 \n",
      "[CV]  pca__n_components=10, rf__criterion=gini, rf__max_depth=3, rf__n_estimators=100, score=0.458, total=   0.4s\n",
      "[CV] pca__n_components=10, rf__criterion=gini, rf__max_depth=3, rf__n_estimators=100 \n",
      "[CV]  pca__n_components=10, rf__criterion=gini, rf__max_depth=3, rf__n_estimators=100, score=0.460, total=   0.4s\n",
      "[CV] pca__n_components=10, rf__criterion=gini, rf__max_depth=3, rf__n_estimators=100 \n",
      "[CV]  pca__n_components=10, rf__criterion=gini, rf__max_depth=3, rf__n_estimators=100, score=0.480, total=   0.4s\n",
      "[CV] pca__n_components=10, rf__criterion=gini, rf__max_depth=3, rf__n_estimators=100 \n",
      "[CV]  pca__n_components=10, rf__criterion=gini, rf__max_depth=3, rf__n_estimators=100, score=0.435, total=   0.4s\n",
      "[CV] pca__n_components=10, rf__criterion=gini, rf__max_depth=3, rf__n_estimators=200 \n",
      "[CV]  pca__n_components=10, rf__criterion=gini, rf__max_depth=3, rf__n_estimators=200, score=0.530, total=   0.6s\n",
      "[CV] pca__n_components=10, rf__criterion=gini, rf__max_depth=3, rf__n_estimators=200 \n",
      "[CV]  pca__n_components=10, rf__criterion=gini, rf__max_depth=3, rf__n_estimators=200, score=0.453, total=   0.6s\n",
      "[CV] pca__n_components=10, rf__criterion=gini, rf__max_depth=3, rf__n_estimators=200 \n",
      "[CV]  pca__n_components=10, rf__criterion=gini, rf__max_depth=3, rf__n_estimators=200, score=0.480, total=   0.6s\n",
      "[CV] pca__n_components=10, rf__criterion=gini, rf__max_depth=3, rf__n_estimators=200 \n",
      "[CV]  pca__n_components=10, rf__criterion=gini, rf__max_depth=3, rf__n_estimators=200, score=0.490, total=   0.7s\n",
      "[CV] pca__n_components=10, rf__criterion=gini, rf__max_depth=3, rf__n_estimators=200 \n",
      "[CV]  pca__n_components=10, rf__criterion=gini, rf__max_depth=3, rf__n_estimators=200, score=0.427, total=   0.6s\n",
      "[CV] pca__n_components=10, rf__criterion=gini, rf__max_depth=3, rf__n_estimators=300 \n",
      "[CV]  pca__n_components=10, rf__criterion=gini, rf__max_depth=3, rf__n_estimators=300, score=0.542, total=   0.9s\n",
      "[CV] pca__n_components=10, rf__criterion=gini, rf__max_depth=3, rf__n_estimators=300 \n",
      "[CV]  pca__n_components=10, rf__criterion=gini, rf__max_depth=3, rf__n_estimators=300, score=0.465, total=   0.9s\n",
      "[CV] pca__n_components=10, rf__criterion=gini, rf__max_depth=3, rf__n_estimators=300 \n",
      "[CV]  pca__n_components=10, rf__criterion=gini, rf__max_depth=3, rf__n_estimators=300, score=0.470, total=   0.9s\n",
      "[CV] pca__n_components=10, rf__criterion=gini, rf__max_depth=3, rf__n_estimators=300 \n",
      "[CV]  pca__n_components=10, rf__criterion=gini, rf__max_depth=3, rf__n_estimators=300, score=0.482, total=   0.9s\n",
      "[CV] pca__n_components=10, rf__criterion=gini, rf__max_depth=3, rf__n_estimators=300 \n",
      "[CV]  pca__n_components=10, rf__criterion=gini, rf__max_depth=3, rf__n_estimators=300, score=0.438, total=   0.9s\n",
      "[CV] pca__n_components=10, rf__criterion=gini, rf__max_depth=3, rf__n_estimators=400 \n",
      "[CV]  pca__n_components=10, rf__criterion=gini, rf__max_depth=3, rf__n_estimators=400, score=0.542, total=   1.1s\n",
      "[CV] pca__n_components=10, rf__criterion=gini, rf__max_depth=3, rf__n_estimators=400 \n",
      "[CV]  pca__n_components=10, rf__criterion=gini, rf__max_depth=3, rf__n_estimators=400, score=0.448, total=   1.1s\n",
      "[CV] pca__n_components=10, rf__criterion=gini, rf__max_depth=3, rf__n_estimators=400 \n",
      "[CV]  pca__n_components=10, rf__criterion=gini, rf__max_depth=3, rf__n_estimators=400, score=0.475, total=   1.1s\n",
      "[CV] pca__n_components=10, rf__criterion=gini, rf__max_depth=3, rf__n_estimators=400 \n",
      "[CV]  pca__n_components=10, rf__criterion=gini, rf__max_depth=3, rf__n_estimators=400, score=0.482, total=   1.1s\n",
      "[CV] pca__n_components=10, rf__criterion=gini, rf__max_depth=3, rf__n_estimators=400 \n",
      "[CV]  pca__n_components=10, rf__criterion=gini, rf__max_depth=3, rf__n_estimators=400, score=0.443, total=   1.1s\n",
      "[CV] pca__n_components=10, rf__criterion=gini, rf__max_depth=5, rf__n_estimators=100 \n",
      "[CV]  pca__n_components=10, rf__criterion=gini, rf__max_depth=5, rf__n_estimators=100, score=0.565, total=   0.4s\n",
      "[CV] pca__n_components=10, rf__criterion=gini, rf__max_depth=5, rf__n_estimators=100 \n",
      "[CV]  pca__n_components=10, rf__criterion=gini, rf__max_depth=5, rf__n_estimators=100, score=0.480, total=   0.4s\n",
      "[CV] pca__n_components=10, rf__criterion=gini, rf__max_depth=5, rf__n_estimators=100 \n",
      "[CV]  pca__n_components=10, rf__criterion=gini, rf__max_depth=5, rf__n_estimators=100, score=0.472, total=   0.4s\n",
      "[CV] pca__n_components=10, rf__criterion=gini, rf__max_depth=5, rf__n_estimators=100 \n",
      "[CV]  pca__n_components=10, rf__criterion=gini, rf__max_depth=5, rf__n_estimators=100, score=0.500, total=   0.4s\n",
      "[CV] pca__n_components=10, rf__criterion=gini, rf__max_depth=5, rf__n_estimators=100 \n",
      "[CV]  pca__n_components=10, rf__criterion=gini, rf__max_depth=5, rf__n_estimators=100, score=0.422, total=   0.4s\n",
      "[CV] pca__n_components=10, rf__criterion=gini, rf__max_depth=5, rf__n_estimators=200 \n",
      "[CV]  pca__n_components=10, rf__criterion=gini, rf__max_depth=5, rf__n_estimators=200, score=0.573, total=   0.6s\n",
      "[CV] pca__n_components=10, rf__criterion=gini, rf__max_depth=5, rf__n_estimators=200 \n",
      "[CV]  pca__n_components=10, rf__criterion=gini, rf__max_depth=5, rf__n_estimators=200, score=0.492, total=   0.6s\n",
      "[CV] pca__n_components=10, rf__criterion=gini, rf__max_depth=5, rf__n_estimators=200 \n",
      "[CV]  pca__n_components=10, rf__criterion=gini, rf__max_depth=5, rf__n_estimators=200, score=0.480, total=   0.6s\n",
      "[CV] pca__n_components=10, rf__criterion=gini, rf__max_depth=5, rf__n_estimators=200 \n",
      "[CV]  pca__n_components=10, rf__criterion=gini, rf__max_depth=5, rf__n_estimators=200, score=0.520, total=   0.6s\n",
      "[CV] pca__n_components=10, rf__criterion=gini, rf__max_depth=5, rf__n_estimators=200 \n",
      "[CV]  pca__n_components=10, rf__criterion=gini, rf__max_depth=5, rf__n_estimators=200, score=0.455, total=   0.6s\n",
      "[CV] pca__n_components=10, rf__criterion=gini, rf__max_depth=5, rf__n_estimators=300 \n",
      "[CV]  pca__n_components=10, rf__criterion=gini, rf__max_depth=5, rf__n_estimators=300, score=0.583, total=   1.0s\n",
      "[CV] pca__n_components=10, rf__criterion=gini, rf__max_depth=5, rf__n_estimators=300 \n",
      "[CV]  pca__n_components=10, rf__criterion=gini, rf__max_depth=5, rf__n_estimators=300, score=0.485, total=   1.0s\n",
      "[CV] pca__n_components=10, rf__criterion=gini, rf__max_depth=5, rf__n_estimators=300 \n",
      "[CV]  pca__n_components=10, rf__criterion=gini, rf__max_depth=5, rf__n_estimators=300, score=0.490, total=   1.0s\n",
      "[CV] pca__n_components=10, rf__criterion=gini, rf__max_depth=5, rf__n_estimators=300 \n",
      "[CV]  pca__n_components=10, rf__criterion=gini, rf__max_depth=5, rf__n_estimators=300, score=0.487, total=   1.0s\n",
      "[CV] pca__n_components=10, rf__criterion=gini, rf__max_depth=5, rf__n_estimators=300 \n",
      "[CV]  pca__n_components=10, rf__criterion=gini, rf__max_depth=5, rf__n_estimators=300, score=0.432, total=   1.0s\n",
      "[CV] pca__n_components=10, rf__criterion=gini, rf__max_depth=5, rf__n_estimators=400 \n",
      "[CV]  pca__n_components=10, rf__criterion=gini, rf__max_depth=5, rf__n_estimators=400, score=0.580, total=   1.2s\n",
      "[CV] pca__n_components=10, rf__criterion=gini, rf__max_depth=5, rf__n_estimators=400 \n",
      "[CV]  pca__n_components=10, rf__criterion=gini, rf__max_depth=5, rf__n_estimators=400, score=0.495, total=   1.2s\n",
      "[CV] pca__n_components=10, rf__criterion=gini, rf__max_depth=5, rf__n_estimators=400 \n",
      "[CV]  pca__n_components=10, rf__criterion=gini, rf__max_depth=5, rf__n_estimators=400, score=0.490, total=   1.2s\n",
      "[CV] pca__n_components=10, rf__criterion=gini, rf__max_depth=5, rf__n_estimators=400 \n",
      "[CV]  pca__n_components=10, rf__criterion=gini, rf__max_depth=5, rf__n_estimators=400, score=0.505, total=   1.2s\n",
      "[CV] pca__n_components=10, rf__criterion=gini, rf__max_depth=5, rf__n_estimators=400 \n",
      "[CV]  pca__n_components=10, rf__criterion=gini, rf__max_depth=5, rf__n_estimators=400, score=0.445, total=   1.2s\n",
      "[CV] pca__n_components=10, rf__criterion=gini, rf__max_depth=7, rf__n_estimators=100 \n",
      "[CV]  pca__n_components=10, rf__criterion=gini, rf__max_depth=7, rf__n_estimators=100, score=0.588, total=   0.4s\n",
      "[CV] pca__n_components=10, rf__criterion=gini, rf__max_depth=7, rf__n_estimators=100 \n",
      "[CV]  pca__n_components=10, rf__criterion=gini, rf__max_depth=7, rf__n_estimators=100, score=0.497, total=   0.4s\n",
      "[CV] pca__n_components=10, rf__criterion=gini, rf__max_depth=7, rf__n_estimators=100 \n",
      "[CV]  pca__n_components=10, rf__criterion=gini, rf__max_depth=7, rf__n_estimators=100, score=0.482, total=   0.5s\n",
      "[CV] pca__n_components=10, rf__criterion=gini, rf__max_depth=7, rf__n_estimators=100 \n",
      "[CV]  pca__n_components=10, rf__criterion=gini, rf__max_depth=7, rf__n_estimators=100, score=0.502, total=   0.4s\n",
      "[CV] pca__n_components=10, rf__criterion=gini, rf__max_depth=7, rf__n_estimators=100 \n",
      "[CV]  pca__n_components=10, rf__criterion=gini, rf__max_depth=7, rf__n_estimators=100, score=0.445, total=   0.4s\n",
      "[CV] pca__n_components=10, rf__criterion=gini, rf__max_depth=7, rf__n_estimators=200 \n",
      "[CV]  pca__n_components=10, rf__criterion=gini, rf__max_depth=7, rf__n_estimators=200, score=0.575, total=   0.7s\n",
      "[CV] pca__n_components=10, rf__criterion=gini, rf__max_depth=7, rf__n_estimators=200 \n",
      "[CV]  pca__n_components=10, rf__criterion=gini, rf__max_depth=7, rf__n_estimators=200, score=0.472, total=   0.7s\n",
      "[CV] pca__n_components=10, rf__criterion=gini, rf__max_depth=7, rf__n_estimators=200 \n",
      "[CV]  pca__n_components=10, rf__criterion=gini, rf__max_depth=7, rf__n_estimators=200, score=0.480, total=   0.7s\n",
      "[CV] pca__n_components=10, rf__criterion=gini, rf__max_depth=7, rf__n_estimators=200 \n",
      "[CV]  pca__n_components=10, rf__criterion=gini, rf__max_depth=7, rf__n_estimators=200, score=0.502, total=   0.7s\n",
      "[CV] pca__n_components=10, rf__criterion=gini, rf__max_depth=7, rf__n_estimators=200 \n",
      "[CV]  pca__n_components=10, rf__criterion=gini, rf__max_depth=7, rf__n_estimators=200, score=0.448, total=   0.7s\n",
      "[CV] pca__n_components=10, rf__criterion=gini, rf__max_depth=7, rf__n_estimators=300 \n",
      "[CV]  pca__n_components=10, rf__criterion=gini, rf__max_depth=7, rf__n_estimators=300, score=0.570, total=   1.2s\n",
      "[CV] pca__n_components=10, rf__criterion=gini, rf__max_depth=7, rf__n_estimators=300 \n",
      "[CV]  pca__n_components=10, rf__criterion=gini, rf__max_depth=7, rf__n_estimators=300, score=0.482, total=   1.2s\n",
      "[CV] pca__n_components=10, rf__criterion=gini, rf__max_depth=7, rf__n_estimators=300 \n",
      "[CV]  pca__n_components=10, rf__criterion=gini, rf__max_depth=7, rf__n_estimators=300, score=0.477, total=   1.0s\n",
      "[CV] pca__n_components=10, rf__criterion=gini, rf__max_depth=7, rf__n_estimators=300 \n",
      "[CV]  pca__n_components=10, rf__criterion=gini, rf__max_depth=7, rf__n_estimators=300, score=0.502, total=   1.1s\n",
      "[CV] pca__n_components=10, rf__criterion=gini, rf__max_depth=7, rf__n_estimators=300 \n",
      "[CV]  pca__n_components=10, rf__criterion=gini, rf__max_depth=7, rf__n_estimators=300, score=0.445, total=   1.1s\n",
      "[CV] pca__n_components=10, rf__criterion=gini, rf__max_depth=7, rf__n_estimators=400 \n",
      "[CV]  pca__n_components=10, rf__criterion=gini, rf__max_depth=7, rf__n_estimators=400, score=0.583, total=   1.3s\n",
      "[CV] pca__n_components=10, rf__criterion=gini, rf__max_depth=7, rf__n_estimators=400 \n",
      "[CV]  pca__n_components=10, rf__criterion=gini, rf__max_depth=7, rf__n_estimators=400, score=0.475, total=   1.3s\n",
      "[CV] pca__n_components=10, rf__criterion=gini, rf__max_depth=7, rf__n_estimators=400 \n",
      "[CV]  pca__n_components=10, rf__criterion=gini, rf__max_depth=7, rf__n_estimators=400, score=0.490, total=   1.2s\n",
      "[CV] pca__n_components=10, rf__criterion=gini, rf__max_depth=7, rf__n_estimators=400 \n",
      "[CV]  pca__n_components=10, rf__criterion=gini, rf__max_depth=7, rf__n_estimators=400, score=0.515, total=   1.3s\n",
      "[CV] pca__n_components=10, rf__criterion=gini, rf__max_depth=7, rf__n_estimators=400 \n",
      "[CV]  pca__n_components=10, rf__criterion=gini, rf__max_depth=7, rf__n_estimators=400, score=0.438, total=   1.3s\n",
      "[CV] pca__n_components=10, rf__criterion=entropy, rf__max_depth=1, rf__n_estimators=100 \n",
      "[CV]  pca__n_components=10, rf__criterion=entropy, rf__max_depth=1, rf__n_estimators=100, score=0.475, total=   0.4s\n",
      "[CV] pca__n_components=10, rf__criterion=entropy, rf__max_depth=1, rf__n_estimators=100 \n",
      "[CV]  pca__n_components=10, rf__criterion=entropy, rf__max_depth=1, rf__n_estimators=100, score=0.400, total=   0.4s\n",
      "[CV] pca__n_components=10, rf__criterion=entropy, rf__max_depth=1, rf__n_estimators=100 \n",
      "[CV]  pca__n_components=10, rf__criterion=entropy, rf__max_depth=1, rf__n_estimators=100, score=0.448, total=   0.4s\n",
      "[CV] pca__n_components=10, rf__criterion=entropy, rf__max_depth=1, rf__n_estimators=100 \n",
      "[CV]  pca__n_components=10, rf__criterion=entropy, rf__max_depth=1, rf__n_estimators=100, score=0.465, total=   0.4s\n",
      "[CV] pca__n_components=10, rf__criterion=entropy, rf__max_depth=1, rf__n_estimators=100 \n",
      "[CV]  pca__n_components=10, rf__criterion=entropy, rf__max_depth=1, rf__n_estimators=100, score=0.445, total=   0.4s\n",
      "[CV] pca__n_components=10, rf__criterion=entropy, rf__max_depth=1, rf__n_estimators=200 \n",
      "[CV]  pca__n_components=10, rf__criterion=entropy, rf__max_depth=1, rf__n_estimators=200, score=0.463, total=   0.6s\n",
      "[CV] pca__n_components=10, rf__criterion=entropy, rf__max_depth=1, rf__n_estimators=200 \n",
      "[CV]  pca__n_components=10, rf__criterion=entropy, rf__max_depth=1, rf__n_estimators=200, score=0.395, total=   0.6s\n",
      "[CV] pca__n_components=10, rf__criterion=entropy, rf__max_depth=1, rf__n_estimators=200 \n",
      "[CV]  pca__n_components=10, rf__criterion=entropy, rf__max_depth=1, rf__n_estimators=200, score=0.453, total=   0.6s\n",
      "[CV] pca__n_components=10, rf__criterion=entropy, rf__max_depth=1, rf__n_estimators=200 \n",
      "[CV]  pca__n_components=10, rf__criterion=entropy, rf__max_depth=1, rf__n_estimators=200, score=0.455, total=   0.6s\n",
      "[CV] pca__n_components=10, rf__criterion=entropy, rf__max_depth=1, rf__n_estimators=200 \n",
      "[CV]  pca__n_components=10, rf__criterion=entropy, rf__max_depth=1, rf__n_estimators=200, score=0.443, total=   0.6s\n",
      "[CV] pca__n_components=10, rf__criterion=entropy, rf__max_depth=1, rf__n_estimators=300 \n",
      "[CV]  pca__n_components=10, rf__criterion=entropy, rf__max_depth=1, rf__n_estimators=300, score=0.465, total=   0.9s\n",
      "[CV] pca__n_components=10, rf__criterion=entropy, rf__max_depth=1, rf__n_estimators=300 \n",
      "[CV]  pca__n_components=10, rf__criterion=entropy, rf__max_depth=1, rf__n_estimators=300, score=0.415, total=   0.9s\n",
      "[CV] pca__n_components=10, rf__criterion=entropy, rf__max_depth=1, rf__n_estimators=300 \n",
      "[CV]  pca__n_components=10, rf__criterion=entropy, rf__max_depth=1, rf__n_estimators=300, score=0.465, total=   0.9s\n",
      "[CV] pca__n_components=10, rf__criterion=entropy, rf__max_depth=1, rf__n_estimators=300 \n",
      "[CV]  pca__n_components=10, rf__criterion=entropy, rf__max_depth=1, rf__n_estimators=300, score=0.453, total=   0.9s\n",
      "[CV] pca__n_components=10, rf__criterion=entropy, rf__max_depth=1, rf__n_estimators=300 \n",
      "[CV]  pca__n_components=10, rf__criterion=entropy, rf__max_depth=1, rf__n_estimators=300, score=0.422, total=   0.9s\n",
      "[CV] pca__n_components=10, rf__criterion=entropy, rf__max_depth=1, rf__n_estimators=400 \n",
      "[CV]  pca__n_components=10, rf__criterion=entropy, rf__max_depth=1, rf__n_estimators=400, score=0.468, total=   1.1s\n",
      "[CV] pca__n_components=10, rf__criterion=entropy, rf__max_depth=1, rf__n_estimators=400 \n",
      "[CV]  pca__n_components=10, rf__criterion=entropy, rf__max_depth=1, rf__n_estimators=400, score=0.398, total=   1.1s\n",
      "[CV] pca__n_components=10, rf__criterion=entropy, rf__max_depth=1, rf__n_estimators=400 \n",
      "[CV]  pca__n_components=10, rf__criterion=entropy, rf__max_depth=1, rf__n_estimators=400, score=0.440, total=   1.1s\n",
      "[CV] pca__n_components=10, rf__criterion=entropy, rf__max_depth=1, rf__n_estimators=400 \n",
      "[CV]  pca__n_components=10, rf__criterion=entropy, rf__max_depth=1, rf__n_estimators=400, score=0.450, total=   1.1s\n",
      "[CV] pca__n_components=10, rf__criterion=entropy, rf__max_depth=1, rf__n_estimators=400 \n",
      "[CV]  pca__n_components=10, rf__criterion=entropy, rf__max_depth=1, rf__n_estimators=400, score=0.450, total=   1.1s\n",
      "[CV] pca__n_components=10, rf__criterion=entropy, rf__max_depth=3, rf__n_estimators=100 \n",
      "[CV]  pca__n_components=10, rf__criterion=entropy, rf__max_depth=3, rf__n_estimators=100, score=0.545, total=   0.5s\n",
      "[CV] pca__n_components=10, rf__criterion=entropy, rf__max_depth=3, rf__n_estimators=100 \n",
      "[CV]  pca__n_components=10, rf__criterion=entropy, rf__max_depth=3, rf__n_estimators=100, score=0.468, total=   0.5s\n",
      "[CV] pca__n_components=10, rf__criterion=entropy, rf__max_depth=3, rf__n_estimators=100 \n",
      "[CV]  pca__n_components=10, rf__criterion=entropy, rf__max_depth=3, rf__n_estimators=100, score=0.482, total=   0.5s\n",
      "[CV] pca__n_components=10, rf__criterion=entropy, rf__max_depth=3, rf__n_estimators=100 \n",
      "[CV]  pca__n_components=10, rf__criterion=entropy, rf__max_depth=3, rf__n_estimators=100, score=0.477, total=   0.5s\n",
      "[CV] pca__n_components=10, rf__criterion=entropy, rf__max_depth=3, rf__n_estimators=100 \n",
      "[CV]  pca__n_components=10, rf__criterion=entropy, rf__max_depth=3, rf__n_estimators=100, score=0.440, total=   0.5s\n",
      "[CV] pca__n_components=10, rf__criterion=entropy, rf__max_depth=3, rf__n_estimators=200 \n",
      "[CV]  pca__n_components=10, rf__criterion=entropy, rf__max_depth=3, rf__n_estimators=200, score=0.530, total=   0.8s\n",
      "[CV] pca__n_components=10, rf__criterion=entropy, rf__max_depth=3, rf__n_estimators=200 \n",
      "[CV]  pca__n_components=10, rf__criterion=entropy, rf__max_depth=3, rf__n_estimators=200, score=0.475, total=   0.7s\n",
      "[CV] pca__n_components=10, rf__criterion=entropy, rf__max_depth=3, rf__n_estimators=200 \n",
      "[CV]  pca__n_components=10, rf__criterion=entropy, rf__max_depth=3, rf__n_estimators=200, score=0.460, total=   0.7s\n",
      "[CV] pca__n_components=10, rf__criterion=entropy, rf__max_depth=3, rf__n_estimators=200 \n",
      "[CV]  pca__n_components=10, rf__criterion=entropy, rf__max_depth=3, rf__n_estimators=200, score=0.475, total=   0.7s\n",
      "[CV] pca__n_components=10, rf__criterion=entropy, rf__max_depth=3, rf__n_estimators=200 \n",
      "[CV]  pca__n_components=10, rf__criterion=entropy, rf__max_depth=3, rf__n_estimators=200, score=0.415, total=   0.7s\n",
      "[CV] pca__n_components=10, rf__criterion=entropy, rf__max_depth=3, rf__n_estimators=300 \n",
      "[CV]  pca__n_components=10, rf__criterion=entropy, rf__max_depth=3, rf__n_estimators=300, score=0.545, total=   1.1s\n",
      "[CV] pca__n_components=10, rf__criterion=entropy, rf__max_depth=3, rf__n_estimators=300 \n",
      "[CV]  pca__n_components=10, rf__criterion=entropy, rf__max_depth=3, rf__n_estimators=300, score=0.468, total=   1.1s\n",
      "[CV] pca__n_components=10, rf__criterion=entropy, rf__max_depth=3, rf__n_estimators=300 \n",
      "[CV]  pca__n_components=10, rf__criterion=entropy, rf__max_depth=3, rf__n_estimators=300, score=0.468, total=   1.1s\n",
      "[CV] pca__n_components=10, rf__criterion=entropy, rf__max_depth=3, rf__n_estimators=300 \n",
      "[CV]  pca__n_components=10, rf__criterion=entropy, rf__max_depth=3, rf__n_estimators=300, score=0.472, total=   1.1s\n",
      "[CV] pca__n_components=10, rf__criterion=entropy, rf__max_depth=3, rf__n_estimators=300 \n",
      "[CV]  pca__n_components=10, rf__criterion=entropy, rf__max_depth=3, rf__n_estimators=300, score=0.440, total=   1.1s\n",
      "[CV] pca__n_components=10, rf__criterion=entropy, rf__max_depth=3, rf__n_estimators=400 \n",
      "[CV]  pca__n_components=10, rf__criterion=entropy, rf__max_depth=3, rf__n_estimators=400, score=0.540, total=   1.4s\n",
      "[CV] pca__n_components=10, rf__criterion=entropy, rf__max_depth=3, rf__n_estimators=400 \n",
      "[CV]  pca__n_components=10, rf__criterion=entropy, rf__max_depth=3, rf__n_estimators=400, score=0.463, total=   1.4s\n",
      "[CV] pca__n_components=10, rf__criterion=entropy, rf__max_depth=3, rf__n_estimators=400 \n",
      "[CV]  pca__n_components=10, rf__criterion=entropy, rf__max_depth=3, rf__n_estimators=400, score=0.468, total=   1.4s\n",
      "[CV] pca__n_components=10, rf__criterion=entropy, rf__max_depth=3, rf__n_estimators=400 \n",
      "[CV]  pca__n_components=10, rf__criterion=entropy, rf__max_depth=3, rf__n_estimators=400, score=0.475, total=   1.4s\n",
      "[CV] pca__n_components=10, rf__criterion=entropy, rf__max_depth=3, rf__n_estimators=400 \n",
      "[CV]  pca__n_components=10, rf__criterion=entropy, rf__max_depth=3, rf__n_estimators=400, score=0.427, total=   1.4s\n",
      "[CV] pca__n_components=10, rf__criterion=entropy, rf__max_depth=5, rf__n_estimators=100 \n",
      "[CV]  pca__n_components=10, rf__criterion=entropy, rf__max_depth=5, rf__n_estimators=100, score=0.575, total=   0.5s\n",
      "[CV] pca__n_components=10, rf__criterion=entropy, rf__max_depth=5, rf__n_estimators=100 \n",
      "[CV]  pca__n_components=10, rf__criterion=entropy, rf__max_depth=5, rf__n_estimators=100, score=0.475, total=   0.5s\n",
      "[CV] pca__n_components=10, rf__criterion=entropy, rf__max_depth=5, rf__n_estimators=100 \n",
      "[CV]  pca__n_components=10, rf__criterion=entropy, rf__max_depth=5, rf__n_estimators=100, score=0.480, total=   0.5s\n",
      "[CV] pca__n_components=10, rf__criterion=entropy, rf__max_depth=5, rf__n_estimators=100 \n",
      "[CV]  pca__n_components=10, rf__criterion=entropy, rf__max_depth=5, rf__n_estimators=100, score=0.487, total=   0.5s\n",
      "[CV] pca__n_components=10, rf__criterion=entropy, rf__max_depth=5, rf__n_estimators=100 \n",
      "[CV]  pca__n_components=10, rf__criterion=entropy, rf__max_depth=5, rf__n_estimators=100, score=0.448, total=   0.5s\n",
      "[CV] pca__n_components=10, rf__criterion=entropy, rf__max_depth=5, rf__n_estimators=200 \n",
      "[CV]  pca__n_components=10, rf__criterion=entropy, rf__max_depth=5, rf__n_estimators=200, score=0.575, total=   0.9s\n",
      "[CV] pca__n_components=10, rf__criterion=entropy, rf__max_depth=5, rf__n_estimators=200 \n",
      "[CV]  pca__n_components=10, rf__criterion=entropy, rf__max_depth=5, rf__n_estimators=200, score=0.485, total=   0.9s\n",
      "[CV] pca__n_components=10, rf__criterion=entropy, rf__max_depth=5, rf__n_estimators=200 \n",
      "[CV]  pca__n_components=10, rf__criterion=entropy, rf__max_depth=5, rf__n_estimators=200, score=0.480, total=   0.9s\n",
      "[CV] pca__n_components=10, rf__criterion=entropy, rf__max_depth=5, rf__n_estimators=200 \n",
      "[CV]  pca__n_components=10, rf__criterion=entropy, rf__max_depth=5, rf__n_estimators=200, score=0.492, total=   0.9s\n",
      "[CV] pca__n_components=10, rf__criterion=entropy, rf__max_depth=5, rf__n_estimators=200 \n",
      "[CV]  pca__n_components=10, rf__criterion=entropy, rf__max_depth=5, rf__n_estimators=200, score=0.450, total=   0.9s\n",
      "[CV] pca__n_components=10, rf__criterion=entropy, rf__max_depth=5, rf__n_estimators=300 \n",
      "[CV]  pca__n_components=10, rf__criterion=entropy, rf__max_depth=5, rf__n_estimators=300, score=0.565, total=   1.3s\n",
      "[CV] pca__n_components=10, rf__criterion=entropy, rf__max_depth=5, rf__n_estimators=300 \n",
      "[CV]  pca__n_components=10, rf__criterion=entropy, rf__max_depth=5, rf__n_estimators=300, score=0.480, total=   1.3s\n",
      "[CV] pca__n_components=10, rf__criterion=entropy, rf__max_depth=5, rf__n_estimators=300 \n",
      "[CV]  pca__n_components=10, rf__criterion=entropy, rf__max_depth=5, rf__n_estimators=300, score=0.492, total=   1.3s\n",
      "[CV] pca__n_components=10, rf__criterion=entropy, rf__max_depth=5, rf__n_estimators=300 \n",
      "[CV]  pca__n_components=10, rf__criterion=entropy, rf__max_depth=5, rf__n_estimators=300, score=0.515, total=   1.3s\n",
      "[CV] pca__n_components=10, rf__criterion=entropy, rf__max_depth=5, rf__n_estimators=300 \n",
      "[CV]  pca__n_components=10, rf__criterion=entropy, rf__max_depth=5, rf__n_estimators=300, score=0.448, total=   1.3s\n",
      "[CV] pca__n_components=10, rf__criterion=entropy, rf__max_depth=5, rf__n_estimators=400 \n",
      "[CV]  pca__n_components=10, rf__criterion=entropy, rf__max_depth=5, rf__n_estimators=400, score=0.583, total=   1.9s\n",
      "[CV] pca__n_components=10, rf__criterion=entropy, rf__max_depth=5, rf__n_estimators=400 \n",
      "[CV]  pca__n_components=10, rf__criterion=entropy, rf__max_depth=5, rf__n_estimators=400, score=0.480, total=   1.7s\n",
      "[CV] pca__n_components=10, rf__criterion=entropy, rf__max_depth=5, rf__n_estimators=400 \n",
      "[CV]  pca__n_components=10, rf__criterion=entropy, rf__max_depth=5, rf__n_estimators=400, score=0.487, total=   1.7s\n",
      "[CV] pca__n_components=10, rf__criterion=entropy, rf__max_depth=5, rf__n_estimators=400 \n",
      "[CV]  pca__n_components=10, rf__criterion=entropy, rf__max_depth=5, rf__n_estimators=400, score=0.510, total=   1.7s\n",
      "[CV] pca__n_components=10, rf__criterion=entropy, rf__max_depth=5, rf__n_estimators=400 \n",
      "[CV]  pca__n_components=10, rf__criterion=entropy, rf__max_depth=5, rf__n_estimators=400, score=0.440, total=   1.7s\n",
      "[CV] pca__n_components=10, rf__criterion=entropy, rf__max_depth=7, rf__n_estimators=100 \n",
      "[CV]  pca__n_components=10, rf__criterion=entropy, rf__max_depth=7, rf__n_estimators=100, score=0.588, total=   0.6s\n",
      "[CV] pca__n_components=10, rf__criterion=entropy, rf__max_depth=7, rf__n_estimators=100 \n",
      "[CV]  pca__n_components=10, rf__criterion=entropy, rf__max_depth=7, rf__n_estimators=100, score=0.477, total=   0.6s\n",
      "[CV] pca__n_components=10, rf__criterion=entropy, rf__max_depth=7, rf__n_estimators=100 \n",
      "[CV]  pca__n_components=10, rf__criterion=entropy, rf__max_depth=7, rf__n_estimators=100, score=0.470, total=   0.6s\n",
      "[CV] pca__n_components=10, rf__criterion=entropy, rf__max_depth=7, rf__n_estimators=100 \n",
      "[CV]  pca__n_components=10, rf__criterion=entropy, rf__max_depth=7, rf__n_estimators=100, score=0.527, total=   0.6s\n",
      "[CV] pca__n_components=10, rf__criterion=entropy, rf__max_depth=7, rf__n_estimators=100 \n",
      "[CV]  pca__n_components=10, rf__criterion=entropy, rf__max_depth=7, rf__n_estimators=100, score=0.448, total=   0.6s\n",
      "[CV] pca__n_components=10, rf__criterion=entropy, rf__max_depth=7, rf__n_estimators=200 \n",
      "[CV]  pca__n_components=10, rf__criterion=entropy, rf__max_depth=7, rf__n_estimators=200, score=0.575, total=   1.0s\n",
      "[CV] pca__n_components=10, rf__criterion=entropy, rf__max_depth=7, rf__n_estimators=200 \n",
      "[CV]  pca__n_components=10, rf__criterion=entropy, rf__max_depth=7, rf__n_estimators=200, score=0.480, total=   1.0s\n",
      "[CV] pca__n_components=10, rf__criterion=entropy, rf__max_depth=7, rf__n_estimators=200 \n",
      "[CV]  pca__n_components=10, rf__criterion=entropy, rf__max_depth=7, rf__n_estimators=200, score=0.465, total=   1.0s\n",
      "[CV] pca__n_components=10, rf__criterion=entropy, rf__max_depth=7, rf__n_estimators=200 \n",
      "[CV]  pca__n_components=10, rf__criterion=entropy, rf__max_depth=7, rf__n_estimators=200, score=0.505, total=   1.0s\n",
      "[CV] pca__n_components=10, rf__criterion=entropy, rf__max_depth=7, rf__n_estimators=200 \n",
      "[CV]  pca__n_components=10, rf__criterion=entropy, rf__max_depth=7, rf__n_estimators=200, score=0.435, total=   1.0s\n",
      "[CV] pca__n_components=10, rf__criterion=entropy, rf__max_depth=7, rf__n_estimators=300 \n",
      "[CV]  pca__n_components=10, rf__criterion=entropy, rf__max_depth=7, rf__n_estimators=300, score=0.583, total=   1.5s\n",
      "[CV] pca__n_components=10, rf__criterion=entropy, rf__max_depth=7, rf__n_estimators=300 \n",
      "[CV]  pca__n_components=10, rf__criterion=entropy, rf__max_depth=7, rf__n_estimators=300, score=0.485, total=   1.5s\n",
      "[CV] pca__n_components=10, rf__criterion=entropy, rf__max_depth=7, rf__n_estimators=300 \n",
      "[CV]  pca__n_components=10, rf__criterion=entropy, rf__max_depth=7, rf__n_estimators=300, score=0.472, total=   1.5s\n",
      "[CV] pca__n_components=10, rf__criterion=entropy, rf__max_depth=7, rf__n_estimators=300 \n",
      "[CV]  pca__n_components=10, rf__criterion=entropy, rf__max_depth=7, rf__n_estimators=300, score=0.520, total=   1.5s\n",
      "[CV] pca__n_components=10, rf__criterion=entropy, rf__max_depth=7, rf__n_estimators=300 \n",
      "[CV]  pca__n_components=10, rf__criterion=entropy, rf__max_depth=7, rf__n_estimators=300, score=0.458, total=   1.5s\n",
      "[CV] pca__n_components=10, rf__criterion=entropy, rf__max_depth=7, rf__n_estimators=400 \n",
      "[CV]  pca__n_components=10, rf__criterion=entropy, rf__max_depth=7, rf__n_estimators=400, score=0.595, total=   1.9s\n",
      "[CV] pca__n_components=10, rf__criterion=entropy, rf__max_depth=7, rf__n_estimators=400 \n",
      "[CV]  pca__n_components=10, rf__criterion=entropy, rf__max_depth=7, rf__n_estimators=400, score=0.485, total=   1.9s\n",
      "[CV] pca__n_components=10, rf__criterion=entropy, rf__max_depth=7, rf__n_estimators=400 \n",
      "[CV]  pca__n_components=10, rf__criterion=entropy, rf__max_depth=7, rf__n_estimators=400, score=0.477, total=   1.9s\n",
      "[CV] pca__n_components=10, rf__criterion=entropy, rf__max_depth=7, rf__n_estimators=400 \n",
      "[CV]  pca__n_components=10, rf__criterion=entropy, rf__max_depth=7, rf__n_estimators=400, score=0.507, total=   1.9s\n",
      "[CV] pca__n_components=10, rf__criterion=entropy, rf__max_depth=7, rf__n_estimators=400 \n",
      "[CV]  pca__n_components=10, rf__criterion=entropy, rf__max_depth=7, rf__n_estimators=400, score=0.445, total=   2.0s\n"
     ]
    },
    {
     "name": "stderr",
     "output_type": "stream",
     "text": [
      "[Parallel(n_jobs=1)]: Done 320 out of 320 | elapsed:  4.6min finished\n"
     ]
    },
    {
     "data": {
      "text/plain": [
       "GridSearchCV(cv=5,\n",
       "             estimator=Pipeline(steps=[('scaling', StandardScaler()),\n",
       "                                       ('pca', PCA()),\n",
       "                                       ('rf',\n",
       "                                        RandomForestClassifier(n_jobs=-1))]),\n",
       "             n_jobs=1,\n",
       "             param_grid={'pca__n_components': [5, 10],\n",
       "                         'rf__criterion': ['gini', 'entropy'],\n",
       "                         'rf__max_depth': [1, 3, 5, 7],\n",
       "                         'rf__n_estimators': [100, 200, 300, 400]},\n",
       "             scoring='accuracy', verbose=10)"
      ]
     },
     "execution_count": 12,
     "metadata": {},
     "output_type": "execute_result"
    }
   ],
   "source": [
    "model.fit(X,y)"
   ]
  },
  {
   "cell_type": "code",
   "execution_count": 13,
   "metadata": {},
   "outputs": [
    {
     "name": "stdout",
     "output_type": "stream",
     "text": [
      "0.504\n",
      "{'memory': None, 'steps': [('scaling', StandardScaler()), ('pca', PCA(n_components=10)), ('rf', RandomForestClassifier(max_depth=5, n_estimators=200, n_jobs=-1))], 'verbose': False, 'scaling': StandardScaler(), 'pca': PCA(n_components=10), 'rf': RandomForestClassifier(max_depth=5, n_estimators=200, n_jobs=-1), 'scaling__copy': True, 'scaling__with_mean': True, 'scaling__with_std': True, 'pca__copy': True, 'pca__iterated_power': 'auto', 'pca__n_components': 10, 'pca__random_state': None, 'pca__svd_solver': 'auto', 'pca__tol': 0.0, 'pca__whiten': False, 'rf__bootstrap': True, 'rf__ccp_alpha': 0.0, 'rf__class_weight': None, 'rf__criterion': 'gini', 'rf__max_depth': 5, 'rf__max_features': 'auto', 'rf__max_leaf_nodes': None, 'rf__max_samples': None, 'rf__min_impurity_decrease': 0.0, 'rf__min_impurity_split': None, 'rf__min_samples_leaf': 1, 'rf__min_samples_split': 2, 'rf__min_weight_fraction_leaf': 0.0, 'rf__n_estimators': 200, 'rf__n_jobs': -1, 'rf__oob_score': False, 'rf__random_state': None, 'rf__verbose': 0, 'rf__warm_start': False}\n"
     ]
    }
   ],
   "source": [
    "print(model.best_score_)\n",
    "print(model.best_estimator_.get_params())"
   ]
  }
 ],
 "metadata": {
  "kernelspec": {
   "display_name": "Python 3",
   "language": "python",
   "name": "python3"
  },
  "language_info": {
   "codemirror_mode": {
    "name": "ipython",
    "version": 3
   },
   "file_extension": ".py",
   "mimetype": "text/x-python",
   "name": "python",
   "nbconvert_exporter": "python",
   "pygments_lexer": "ipython3",
   "version": "3.7.6"
  }
 },
 "nbformat": 4,
 "nbformat_minor": 4
}
